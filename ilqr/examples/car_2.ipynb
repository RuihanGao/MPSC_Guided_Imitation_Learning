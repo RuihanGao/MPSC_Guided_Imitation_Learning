{
 "cells": [
  {
   "cell_type": "markdown",
   "metadata": {},
   "source": [
    "Lane Following Problem\n",
    "===========================\n",
    "\n",
    "The dynamics model of an omnidirectional vehicle with no friction is defined by the following equation:\n",
    "\n",
    "$$\n",
    "\\dot{p}^x(t) = (v_k + \\dot{v}_k(t-T_s k))cos(\\theta_k + \\theta_k(t - T_sk))\n",
    "$$\n",
    "$$\n",
    "\\dot{p}^y(t) = (v_k + \\dot{v}_k(t - T_s k))sin(\\theta_k + \\theta_k(t - T_s k))\n",
    "$$\n",
    "\n",
    "iLQR is applied to a vehicle in order to control them to follow a reference trajectory at a terminal velocity of $10 m/s$.\n",
    "\n",
    "The state vector $\\textbf{x}$ is defined as follows:\n",
    "$$\\begin{equation*}\n",
    "\\textbf{x} = \\begin{bmatrix}\n",
    "    p^x & p^y & v & \\theta\n",
    "    \\end{bmatrix}^T\n",
    "\\end{equation*}$$\n",
    "\n",
    "The action vector $\\textbf{u}$ is defined as follows:\n",
    "$$\\begin{equation*}\n",
    "\\textbf{u} = \\begin{bmatrix}\n",
    "   \\dot{v} & \\delta\n",
    "    \\end{bmatrix}^T\n",
    "\\end{equation*}$$\n",
    "\n",
    "**Note**: That since this dynamics model is nonlinear, this problem can be solved\n",
    "more efficiently with a simple Linear Quadratic Regulator (LQR) instead. This\n",
    "example is just used to demonstrate how to setup an auto-differentiated\n",
    "dynamics model."
   ]
  },
  {
   "cell_type": "code",
   "execution_count": 1,
   "metadata": {},
   "outputs": [],
   "source": [
    "%matplotlib inline"
   ]
  },
  {
   "cell_type": "code",
   "execution_count": 2,
   "metadata": {},
   "outputs": [],
   "source": [
    "from __future__ import print_function\n",
    "import sys\n",
    "import os\n",
    "sys.path.append(os.path.abspath('../'))\n",
    "import random\n",
    "import ilqr\n",
    "import math"
   ]
  },
  {
   "cell_type": "code",
   "execution_count": 3,
   "metadata": {},
   "outputs": [],
   "source": [
    "import numpy as np\n",
    "import theano.tensor as T\n",
    "import matplotlib.pyplot as plt\n"
   ]
  },
  {
   "cell_type": "code",
   "execution_count": 4,
   "metadata": {},
   "outputs": [],
   "source": [
    "from ilqr import iLQR\n",
    "from ilqr.cost import PathQRCost\n",
    "from ilqr.examples.car import CarDynamics, CarCost\n",
    "\n",
    "from nn import *\n",
    "import pickle"
   ]
  },
  {
   "cell_type": "code",
   "execution_count": 5,
   "metadata": {},
   "outputs": [],
   "source": [
    "def on_iteration(iteration_count, xs, us, J_opt, accepted, converged):\n",
    "    J_hist.append(J_opt)\n",
    "    info = \"converged\" if converged else (\"accepted\" if accepted else \"failed\")\n",
    "    final_state = xs[-1]\n",
    "    final_control = us[-1]\n",
    "    if iteration_count % 60 == 0:\n",
    "        print(\"iteration\", iteration_count, info, J_opt, final_state, final_control)\n"
   ]
  },
  {
   "cell_type": "code",
   "execution_count": 6,
   "metadata": {},
   "outputs": [],
   "source": [
    "dt = 0.05\n",
    "wheel_diameter = 1.0\n",
    "dynamics = CarDynamics(dt, l=wheel_diameter)"
   ]
  },
  {
   "cell_type": "markdown",
   "metadata": {},
   "source": [
    "An instantaneous cost function $l(\\textbf{x}_t, \\textbf{u}_t)$ is defined as follows:\n",
    "\n",
    "$$\n",
    "l(\\textbf{x}_t, \\textbf{u}_t) = \\textbf{x}_t^T Q \\textbf{x}_t + \\textbf{u}_t^T R \\textbf{u}_t\n",
    "$$\n",
    "\n",
    "where $Q$ is the state error and $R$ is the control error.\n",
    "\n",
    "In order to approach the two vehicles to each other, $Q$ is set up to penalize differences in positions as $||\\textbf{x}_0 - \\textbf{x}_1||^2$ while penalizing non-zero velocities.\n",
    "\n",
    "The following code generates the lane and boundaries. There are 150 way points along the reference trajectory. The boundary is +-3 vertically away from the reference trajecotry.S"
   ]
  },
  {
   "cell_type": "code",
   "execution_count": 7,
   "metadata": {},
   "outputs": [
    {
     "data": {
      "image/png": "[encoded data removed]",
      "text/plain": [
       "<Figure size 432x288 with 1 Axes>"
      ]
     },
     "metadata": {
      "needs_background": "light"
     },
     "output_type": "display_data"
    }
   ],
   "source": [
    "def lane(posx):\n",
    "    ts = [50, 100, 150]\n",
    "    rate = 10.0\n",
    "    height = 10.0\n",
    "    if posx <= ts[0]:\n",
    "        return height * np.exp((posx - ts[0])/rate), np.arctan(height * np.exp((posx - ts[0])/rate)/rate)\n",
    "    elif posx > ts[0] and posx <= ts[1]:\n",
    "        return height * np.exp(ts[0] - ts[0]), np.arctan(0)\n",
    "    elif posx > ts[1]:\n",
    "        return height * np.exp((ts[1] - posx)/rate), np.arctan(- height * np.exp((ts[1] - posx)/rate))\n",
    "\n",
    "def nominal(posx):\n",
    "    ts = [50, 100, 150]\n",
    "    rate = 10.0\n",
    "    height = 10.0\n",
    "    if posx <= ts[0]:\n",
    "        return height * np.exp((posx - ts[0])/rate), np.arctan(height * np.exp((posx - ts[0])/rate)/rate)\n",
    "    elif posx > ts[0] and posx <= ts[1]:\n",
    "        return height * np.exp(ts[0] - ts[0]), np.arctan(0)\n",
    "    elif posx > ts[1]:\n",
    "        return height * np.exp((ts[1] - posx)/rate), np.arctan(- height * np.exp((ts[1] - posx)/rate))\n",
    "\n",
    "posx_path = np.linspace(0, 150, 300)\n",
    "x_path = [[posx_path[i], lane(posx_path[i])[0], 10, lane(posx_path[i])[1]] for i in range(300)]\n",
    "\n",
    "\n",
    "posx_ = np.asarray(x_path)[:, 0]\n",
    "posy_ = np.asarray(x_path)[:, 1]\n",
    "_ = plt.plot(posx_, posy_, \"b\")\n",
    "_ = plt.plot(posx_, posy_ + 3.0, 'g')\n",
    "_ = plt.plot(posx_, posy_ - 3.0, 'g')\n",
    "_ = plt.legend(\"Reference Path\")\n",
    "\n",
    "# Instantenous state cost.\n",
    "Q = np.eye(dynamics.state_size)\n",
    "Q[3, 3] = 0.0\n",
    "\n",
    "\n",
    "R = np.eye(dynamics.action_size)\n",
    "R[0, 0] = 1.0\n",
    "R[1, 1] = 1.0\n",
    "\n",
    "barriers = np.array([0, 1, 0, 0]) \n",
    "\n",
    "q = np.zeros((dynamics.state_size, 1))\n",
    "r = np.zeros((dynamics.action_size, 1)) \n",
    "A = np.array([[[0, 1., 0, 0]], [[0, -1., 0, 0]]])\n",
    "b = np.array([[3.0], [3.0]])\n",
    "q1 = [1, 1]\n",
    "q2 = [.5, .5]\n",
    "#A = np.array([[[0, 1, 0, 0]]])\n",
    "#b = np.array([11])\n"
   ]
  },
  {
   "cell_type": "markdown",
   "metadata": {},
   "source": [
    "Now use iLQR to solve this trajectory following problem. Safety constraint is added such that the vehicle stay within the boundaries. The vehicles are initialized at $(0, 0)$ with velocities $10$. The look ahead horizon is 30."
   ]
  },
  {
   "cell_type": "code",
   "execution_count": 35,
   "metadata": {
    "scrolled": true
   },
   "outputs": [
    {
     "name": "stdout",
     "output_type": "stream",
     "text": [
      "iteration 0 accepted [0.06312485] [14.50776647  0.27244603 10.00793916  0.02001785] [-0.00055011 -0.00332033]\n",
      "iteration 0 accepted [0.06910697] [15.00871879  0.2868433  10.00856882  0.02071845] [-0.00057159 -0.00374389]\n",
      "iteration 0 accepted [0.07556337] [15.50969902  0.301692   10.00919825  0.02171402] [-0.00059338 -0.00398921]\n",
      "iteration 0 accepted [0.08257211] [16.01069765  0.31717124 10.0098232   0.02287637] [-0.00061511 -0.00415798]\n",
      "iteration 0 accepted [0.09020402] [16.51170685  0.33339149 10.01044056  0.02414261] [-0.00063655 -0.00430141]\n",
      "iteration 0 accepted [0.09852836] [17.01272028  0.35043602 10.01104838  0.02547763] [-0.00065755 -0.00444935]\n",
      "iteration 0 accepted [0.10761503] [17.51373296  0.36836924 10.01164583  0.02686594] [-0.00067803 -0.00461666]\n",
      "iteration 0 accepted [0.11753754] [18.01474072  0.3872444  10.01223278  0.02830439] [-0.00069799 -0.00480879]\n",
      "iteration 0 accepted [0.12837567] [18.51573973  0.40710949 10.01280957  0.02979664] [-0.00071746 -0.00502614]\n",
      "iteration 0 accepted [0.1402175] [19.01672613  0.42801141 10.01337674  0.0313495 ] [-0.00073646 -0.00526682]\n",
      "iteration 0 accepted [0.15316106] [19.51769587  0.44999852 10.013935    0.0329707 ] [-0.00075506 -0.00552843]\n",
      "iteration 0 accepted [0.16731588] [20.01864455  0.47312207 10.01448508  0.03466779] [-0.00077331 -0.00580888]\n",
      "iteration 0 accepted [0.18280431] [20.51956735  0.49743688 10.0150278   0.0364477 ] [-0.00079125 -0.00610675]\n",
      "iteration 0 accepted [0.19976293] [21.02045897  0.52300151 10.015564    0.03831672] [-0.00080894 -0.00642129]\n",
      "iteration 0 accepted [0.21834401] [21.52131357  0.54987834 10.01609457  0.04028063] [-0.00082644 -0.00675237]\n",
      "iteration 0 accepted [0.23871701] [22.02212477  0.57813352 10.01662044  0.04234491] [-0.00084378 -0.00710028]\n",
      "iteration 0 accepted [0.26107034] [22.52288554  0.60783688 10.01714265  0.04451491] [-0.00086104 -0.00746565]\n",
      "iteration 0 accepted [0.28561327] [23.02358823  0.63906201 10.01766228  0.04679601] [-0.00087827 -0.00784926]\n",
      "iteration 0 accepted [0.31257803] [23.52422444  0.67188624 10.01818055  0.04919374] [-0.00089552 -0.00825206]\n",
      "iteration 0 accepted [0.34222227] [24.02478498  0.7063908  10.01869877  0.05171385] [-0.00091287 -0.00867504]\n",
      "iteration 0 accepted [0.3748317] [24.52525983  0.74266089 10.01921839  0.05436235] [-0.0009304  -0.00911925]\n",
      "iteration 0 accepted [0.4107231] [25.02563797  0.78078589 10.01974101  0.05714554] [-0.00094817 -0.00958578]\n",
      "iteration 0 accepted [0.45024768] [25.52590739  0.82085951 10.02026837  0.06007002] [-0.00096627 -0.01007573]\n",
      "iteration 0 accepted [0.49379475] [26.02605488  0.86297996 10.0208024   0.0631427 ] [-0.0009848  -0.01059026]\n",
      "iteration 0 accepted [0.54179594] [26.52606598  0.90725018 10.02134519  0.06637082] [-0.00100387 -0.01113055]\n",
      "iteration 0 accepted [0.59472975] [27.02592484  0.95377798 10.02189908  0.06976193] [-0.00102357 -0.01169781]\n",
      "iteration 0 accepted [0.65312678] [27.52561406  1.00267628 10.0224666   0.07332392] [-0.00104404 -0.01229329]\n",
      "iteration 0 accepted [0.71757541] [28.02511458  1.05406325 10.02305055  0.07706499] [-0.00106541 -0.01291829]\n",
      "iteration 0 accepted [0.78872826] [28.52440544  1.10806258 10.023654    0.08099368] [-0.00108783 -0.01357413]\n",
      "iteration 0 accepted [0.86730934] [29.02346371  1.16480359 10.0242803   0.08511885] [-0.00111144 -0.0142622 ]\n",
      "iteration 0 accepted [0.95412211] [29.52226419  1.22442143 10.02493317  0.0894497 ] [-0.00113645 -0.01498389]\n",
      "iteration 0 accepted [1.05005842] [30.02077929  1.28705727 10.02561666  0.09399574] [-0.00116302 -0.01574065]\n",
      "iteration 0 accepted [1.1561086] [30.51897874  1.35285846 10.02633525  0.09876681] [-0.00119138 -0.01653392]\n",
      "iteration 0 accepted [1.27337356] [31.01682933  1.42197911 10.02709375  0.10377231] [-0.00122176 -0.01736568]\n",
      "iteration 0 accepted [1.40307431] [31.51429501  1.49457847 10.02789775  0.10902389] [-0.00125442 -0.01823657]\n",
      "iteration 0 accepted [1.54657053] [32.011336    1.57082336 10.02875315  0.11453197] [-0.00128965 -0.01914826]\n",
      "iteration 0 accepted [1.7053746] [32.50790889  1.65088714 10.02966642  0.12030728] [-0.00132775 -0.02010235]\n",
      "iteration 0 accepted [1.88116977] [33.00396629  1.73494973 10.03064475  0.12636081] [-0.00136907 -0.02110035]\n",
      "iteration 0 accepted [2.07583067] [33.49945651  1.82319767 10.031696    0.13270373] [-0.00141399 -0.02214368]\n",
      "iteration 0 accepted [2.29144654] [33.99432331  1.91582404 10.03282885  0.13934731] [-0.00146292 -0.0232337 ]\n",
      "iteration 0 accepted [2.53035789] [34.48850506  2.01303006 10.03405123  0.14629295] [-0.00151609 -0.02437765]\n",
      "iteration 0 accepted [2.79515255] [34.98193819  2.11501839 10.03537529  0.15355728] [-0.00157411 -0.02557286]\n",
      "iteration 0 accepted [3.0887432] [35.47454792  2.22199888 10.03681022  0.16114539] [-0.0016374  -0.02682335]\n",
      "iteration 0 accepted [3.41423556] [35.96629536  2.33419582 10.03839679  0.1691394 ] [-0.00170826 -0.02808916]\n",
      "iteration 0 accepted [3.77544512] [36.45704741  2.45182807 10.04011265  0.17745646] [-0.00178519 -0.02942464]\n",
      "iteration 0 accepted [4.17640286] [36.94672253  2.57511955 10.04197975  0.18612582] [-0.00186941 -0.03081755]\n",
      "iteration 0 accepted [4.62178783] [37.43519013  2.70427101 10.04399006  0.1951072 ] [-0.00196054 -0.03229093]\n",
      "iteration 0 accepted [5.11650527] [37.92240435  2.83956497 10.04621081  0.20452194] [-0.00206245 -0.03378505]\n",
      "iteration 0 accepted [5.66669516] [38.40816094  2.98112585 10.04858348  0.21420905] [-0.00217189 -0.03537741]\n",
      "iteration 0 accepted [6.27840714] [38.89246836  3.12928384 10.05121884  0.22432517] [-0.0022939  -0.03699128]\n",
      "iteration 0 accepted [6.95876305] [39.3752017   3.28464853 10.05424222  0.23520139] [-0.00243905 -0.03849587]\n",
      "iteration 0 accepted [7.71709804] [39.85608878  3.44650205 10.05734581  0.24592057] [-0.00258331 -0.0402591 ]\n",
      "iteration 0 accepted [8.56157439] [40.33519361  3.61576295 10.06084372  0.25716307] [-0.00274714 -0.04199123]\n",
      "iteration 0 accepted [9.50316003] [40.81227637  3.79262753 10.06471175  0.26885815] [-0.00293079 -0.0437182 ]\n",
      "iteration 0 accepted [10.55386556] [41.28721607  3.97715429 10.0689514   0.28087446] [-0.00313281 -0.04547244]\n",
      "iteration 0 accepted [11.72726018] [41.75987217  4.16961398 10.07361715  0.29323534] [-0.00335652 -0.04722976]\n",
      "iteration 0 accepted [13.03881861] [42.23010875  4.37017801 10.07874647  0.30589949] [-0.00360383 -0.04898233]\n",
      "iteration 0 accepted [14.50617136] [42.69778397  4.57906735 10.08439203  0.31885129] [-0.00387776 -0.05071214]\n",
      "iteration 0 accepted [16.14932172] [43.1628644   4.79598604 10.09053611  0.3318419 ] [-0.00417582 -0.05243572]\n",
      "iteration 0 accepted [17.99121337] [43.62520209  5.02134823 10.09728508  0.34496171] [-0.00450514 -0.05409712]\n",
      "iteration 0 accepted [20.05853544] [44.08442065  5.2562967  10.10482611  0.35855155] [-0.00487888 -0.055633  ]\n",
      "iteration 0 accepted [22.38054156] [44.54129886  5.49776956 10.11282941  0.3712795 ] [-0.00527067 -0.05713235]\n",
      "iteration 0 accepted [24.99835595] [44.9940216   5.74996116 10.12164975  0.38468544] [-0.00572485 -0.05843175]\n",
      "iteration 0 accepted [27.94197744] [45.44554494  6.00685494 10.13110083  0.39639349] [-0.00619315 -0.0595773 ]\n",
      "iteration 0 accepted [31.26109384] [45.89355069  6.27464898 10.14181136  0.40855525] [-0.00673129 -0.06044904]\n",
      "iteration 0 accepted [35.01006652] [46.33901539  6.55012731 10.1534672   0.41986917] [-0.00731969 -0.06102607]\n",
      "iteration 0 accepted [39.25139181] [46.7820241   6.83331019 10.16617495  0.43020874] [-0.00796534 -0.06124107]\n",
      "iteration 0 accepted [44.05753652] [47.22235685  7.12491129 10.18009955  0.43965556] [-0.00867899 -0.06104925]\n",
      "iteration 0 accepted [49.51640998] [47.66122996  7.42219435 10.19509241  0.44715001] [-0.00945286 -0.06031132]\n",
      "iteration 0 accepted [55.72152039] [48.09684333  7.72965726 10.21168752  0.45397644] [-0.0103175  -0.05910369]\n",
      "iteration 0 accepted [62.79401179] [48.5310451   8.04325245 10.22964692  0.45863173] [-0.01125912 -0.05723348]\n",
      "iteration 0 accepted [70.47862774] [48.99674353  8.30224124 10.24828815  0.42193752] [-0.01229484 -0.04470293]\n",
      "iteration 0 accepted [77.97239034] [49.49604212  8.48745654 10.26755462  0.34611316] [-0.01341012 -0.02174794]\n",
      "iteration 0 accepted [85.48764609] [50.00751973  8.62565517 10.2859292   0.27829437] [-0.01441846 -0.00119807]\n",
      "iteration 0 accepted [92.35209014] [50.52037434  8.73857743 10.30407594  0.22507705] [-0.01539539  0.01580207]\n"
     ]
    },
    {
     "name": "stdout",
     "output_type": "stream",
     "text": [
      "iteration 0 accepted [98.9236087] [51.03158019  8.83590572 10.32181051  0.18677559] [-0.0163516  0.0294037]\n",
      "iteration 0 accepted [105.30762303] [51.55332212  8.89959164 10.33622621  0.16088762] [-0.01702882  0.03848565]\n",
      "iteration 0 accepted [111.42845732] [52.06503828  8.97753392 10.35259469  0.14637029] [-0.01786778  0.04687285]\n",
      "iteration 0 accepted [117.42178097] [52.58678421  9.02930905 10.36453883  0.13851402] [-0.01836731  0.05184711]\n",
      "iteration 0 accepted [123.24447754] [53.10842951  9.07638108 10.37552135  0.13455809] [-0.0187862   0.05652489]\n",
      "iteration 0 accepted [128.92298608] [53.63232939  9.1116242  10.38393494  0.13199172] [-0.01901701  0.06068102]\n",
      "iteration 0 accepted [134.4763437] [54.15696286  9.13388122 10.39007274  0.128989  ] [-0.01908026  0.0654207 ]\n",
      "iteration 0 accepted [139.88406468] [54.68293952  9.14192285 10.39303052  0.12477453] [-0.01891122  0.06994468]\n",
      "iteration 0 accepted [145.16137403] [55.20903698  9.13464256 10.39307391  0.11873967] [-0.01852896  0.07495171]\n",
      "iteration 0 accepted [150.3387048] [55.7346323   9.10864903 10.38991639  0.11035753] [-0.01791215  0.08079215]\n",
      "iteration 0 accepted [155.52172481] [56.25728182  9.05901472 10.38247381  0.09910932] [-0.01703054  0.08764386]\n",
      "iteration 0 accepted [160.56638419] [56.77951167  8.99933523 10.37311112  0.08612448] [-0.01596981  0.09391669]\n",
      "iteration 0 accepted [165.68762044] [57.29813183  8.91643383 10.36066237  0.07010103] [-0.01467176  0.10108836]\n",
      "iteration 0 accepted [170.90041909] [5.78121725e+01 8.82028980e+00 1.03464826e+01 5.21954232e-02] [-0.01325397  0.10809229]\n",
      "iteration 0 accepted [176.4971796] [5.83187024e+01 8.69728171e+00 1.03295831e+01 3.08328782e-02] [-0.01163514  0.11608545]\n",
      "iteration 0 accepted [182.35063167] [5.88185626e+01 8.56848905e+00 1.03128937e+01 8.80764376e-03] [-0.0100541   0.12332936]\n",
      "iteration 0 accepted [189.13381235] [ 5.93057583e+01  8.39940071e+00  1.02925967e+01 -1.83661243e-02] [-0.00821507  0.13243213]\n",
      "iteration 0 accepted [196.36777208] [ 5.97855026e+01  8.22472505e+00  1.02728602e+01 -4.59988435e-02] [-0.00645899  0.14085288]\n",
      "iteration 0 accepted [204.25375261] [60.25811892  8.0297522  10.25201967 -0.07636455] [-0.00461405  0.14984003]\n",
      "iteration 0 accepted [211.3821561] [60.73752262  7.86330374 10.23438145 -0.10237538] [-0.0030814   0.15638091]\n",
      "iteration 0 accepted [218.16150296] [61.22141732  7.69499396 10.21578447 -0.12873535] [-0.00150642  0.16277146]\n",
      "iteration 0 accepted [219.55591324] [61.75484477  7.67970156 10.2110253  -0.13210563] [-0.00120595  0.15960981]\n",
      "iteration 0 accepted [217.59769757] [62.31844125  7.74575575 10.21257004 -0.12386927] [-0.00148823  0.15182962]\n",
      "iteration 0 accepted [212.8215925] [62.9050562   7.88863467 10.22140816 -0.10542971] [-0.00234064  0.13986383]\n",
      "iteration 0 accepted [206.73773448] [63.49332803  8.0702266  10.23348593 -0.08259291] [-0.00349817  0.12588755]\n",
      "iteration 0 accepted [199.9678632] [ 6.40708292e+01  8.26487054e+00  1.02457459e+01 -5.92719526e-02] [-0.00477336  0.11134536]\n",
      "iteration 0 accepted [188.57744118] [ 6.46821056e+01  8.69783012e+00  1.02783411e+01 -1.32164913e-02] [-0.00772216  0.08302545]\n",
      "iteration 0 accepted [183.74338206] [6.52323586e+01 8.85425686e+00 1.02862616e+01 1.59310762e-05] [-0.00856966  0.07120114]\n",
      "iteration 0 accepted [180.10629246] [6.57699464e+01 8.96943358e+00 1.02900498e+01 8.27595163e-03] [-0.00911733  0.06190999]\n",
      "iteration 0 accepted [176.4012166] [6.63145958e+01 9.15340491e+00 1.03000488e+01 1.94118003e-02] [-0.01009232  0.04764181]\n",
      "iteration 0 accepted [174.05514371] [6.68474268e+01 9.26822323e+00 1.03041563e+01 2.35007144e-02] [-0.01056228  0.03743712]\n",
      "iteration 0 accepted [172.41074344] [6.73736400e+01 9.33792368e+00 1.03046120e+01 2.40622476e-02] [-0.01071708  0.03021324]\n",
      "iteration 0 accepted [171.1027527] [6.78956148e+01 9.38894760e+00 1.03030780e+01 2.29953683e-02] [-0.01074927  0.02405408]\n",
      "iteration 0 accepted [170.07682682] [6.84142405e+01 9.41027735e+00 1.02994202e+01 2.15420833e-02] [-0.01058686  0.02086094]\n",
      "iteration 0 accepted [169.15432745] [6.89320901e+01 9.43089076e+00 1.02957105e+01 1.96539781e-02] [-0.01042503  0.0174642 ]\n",
      "iteration 0 accepted [168.33197817] [6.94486465e+01 9.44598969e+00 1.02914986e+01 1.75905322e-02] [-0.01023269  0.0145279 ]\n",
      "iteration 0 accepted [167.58720673] [6.99641599e+01 9.45673696e+00 1.02869003e+01 1.54596919e-02] [-0.0100177   0.01199067]\n",
      "iteration 0 accepted [166.90434601] [7.04787861e+01 9.46392615e+00 1.02819887e+01 1.33869137e-02] [-0.00978508  0.00985021]\n",
      "iteration 0 accepted [166.27003963] [7.09927409e+01 9.46900311e+00 1.02768992e+01 1.11797447e-02] [-0.0095458   0.00780966]\n",
      "iteration 0 accepted [165.68289777] [7.15056601e+01 9.47026194e+00 1.02713731e+01 1.03438597e-02] [-0.00927818  0.00715513]\n",
      "iteration 0 accepted [165.12302059] [7.20184785e+01 9.47251956e+00 1.02660558e+01 8.11476070e-03] [-0.00903346  0.00535075]\n",
      "iteration 0 accepted [164.60232101] [7.25302346e+01 9.47231598e+00 1.02602872e+01 8.64878917e-03] [-0.00875622  0.00584272]\n",
      "iteration 0 accepted [164.09884594] [7.30422336e+01 9.47320961e+00 1.02549435e+01 5.80607424e-03] [-0.00852014  0.00368933]\n",
      "iteration 0 accepted [163.62595669] [7.35531906e+01 9.47336068e+00 1.02492093e+01 5.46767196e-03] [-0.00826366  0.00347102]\n",
      "iteration 0 accepted [163.17641113] [7.40639494e+01 9.47307265e+00 1.02435813e+01 4.46393803e-03] [-0.00801608  0.00278744]\n",
      "iteration 0 accepted [162.75069648] [7.45744783e+01 9.47259646e+00 1.02380162e+01 3.59695183e-03] [-0.00777125  0.00221534]\n",
      "iteration 0 accepted [162.34637307] [7.50846553e+01 9.47183194e+00 1.02324671e+01 2.70047351e-03] [-0.00753062  0.00163891]\n",
      "iteration 0 accepted [161.96237128] [7.55944800e+01 9.47099344e+00 1.02269355e+01 1.93873053e-03] [-0.00729384  0.00116232]\n",
      "iteration 0 accepted [161.5975163] [7.61039642e+01 9.47022705e+00 1.02214312e+01 1.34718618e-03] [-0.00706129  0.00080038]\n",
      "iteration 0 accepted [161.25078511] [7.66131208e+01 9.46959771e+00 1.02159642e+01 9.11628838e-04] [-0.00683341  0.00053823]\n",
      "iteration 0 accepted [160.92131837] [7.71219616e+01 9.46911581e+00 1.02105425e+01 6.02491407e-04] [-0.00661046  0.00035429]\n",
      "iteration 0 accepted [160.60837452] [7.76304968e+01 9.46876466e+00 1.02051731e+01 3.89241741e-04] [-0.00639261  0.00022836]\n",
      "iteration 0 accepted [160.3112861] [7.81387357e+01 9.46851835e+00 1.01998613e+01 2.45676868e-04] [-0.00617995  0.00014397]\n",
      "iteration 0 accepted [160.02943017] [7.86466869e+01 9.46835098e+00 1.01946122e+01 1.51188594e-04] [-5.97249985e-03  8.85685748e-05]\n",
      "iteration 0 accepted [159.76221084] [7.91543590e+01 9.46824044e+00 1.01894299e+01 9.03882813e-05] [-5.77028506e-03  5.29638476e-05]\n",
      "iteration 0 accepted [159.5090517] [7.96617587e+01 9.46816266e+00 1.01843178e+01 4.89082250e-05] [-5.57330083e-03  2.86740028e-05]\n",
      "iteration 0 accepted [159.26938031] [8.01688932e+01 9.46810727e+00 1.01792788e+01 2.03709725e-05] [-5.38153477e-03  1.19522290e-05]\n",
      "iteration 0 accepted [159.04264071] [8.06757749e+01 9.46808742e+00 1.01743181e+01 1.01374611e-05] [-5.19494830e-03  5.95430728e-06]\n",
      "iteration 0 accepted [158.82830659] [8.11824113e+01 9.46807959e+00 1.01694381e+01 6.05580487e-06] [-5.01350861e-03  3.56099401e-06]\n",
      "iteration 0 accepted [158.62584648] [8.16888098e+01 9.46807602e+00 1.01646412e+01 4.15574786e-06] [-4.83717670e-03  2.44649451e-06]\n",
      "iteration 0 accepted [158.43473555] [8.21949777e+01 9.46807407e+00 1.01599294e+01 3.09240573e-06] [-4.66590827e-03  1.82253336e-06]\n",
      "iteration 0 accepted [158.25446] [8.27009223e+01 9.46807280e+00 1.01553046e+01 2.39115218e-06] [-4.49965413e-03  1.41077026e-06]\n",
      "iteration 0 accepted [158.08451888] [8.32066508e+01 9.46807186e+00 1.01507682e+01 1.87525685e-06] [-4.33836052e-03  1.10755633e-06]\n",
      "iteration 0 accepted [157.92442499] [8.37121700e+01 9.46807113e+00 1.01463217e+01 1.47331992e-06] [-4.18196947e-03  8.71052271e-07]\n",
      "iteration 0 accepted [157.77370546] [8.42174869e+01 9.46807054e+00 1.01419661e+01 1.15252607e-06] [-4.03041910e-03  6.82065865e-07]\n",
      "iteration 0 accepted [157.63190208] [8.47226084e+01 9.46807006e+00 1.01377025e+01 8.94859261e-07] [-3.88364389e-03  5.30084588e-07]\n",
      "iteration 0 accepted [157.49857156] [8.52275411e+01 9.46806967e+00 1.01335316e+01 6.88413467e-07] [-3.74157504e-03  4.08170226e-07]\n",
      "iteration 0 accepted [157.37328563] [8.57322916e+01 9.46806936e+00 1.01294540e+01 5.24147563e-07] [-3.60414071e-03  3.11052616e-07]\n",
      "iteration 0 accepted [157.25563118] [8.62368664e+01 9.46806910e+00 1.01254700e+01 3.94645564e-07] [-3.47126629e-03  2.34402802e-07]\n",
      "iteration 0 accepted [157.14521024] [8.67412718e+01 9.46806891e+00 1.01215800e+01 2.93624485e-07] [-3.34287470e-03  1.74546145e-07]\n"
     ]
    },
    {
     "name": "stdout",
     "output_type": "stream",
     "text": [
      "iteration 0 accepted [157.04163992] [8.72455140e+01 9.46806875e+00 1.01177841e+01 2.15719676e-07] [-3.21888664e-03  1.28338656e-07]\n",
      "iteration 0 accepted [156.94455233] [8.77495993e+01 9.46806863e+00 1.01140821e+01 1.56369612e-07] [-3.09922082e-03  9.31016392e-08]\n",
      "iteration 0 accepted [156.85359443] [8.82535335e+01 9.46806854e+00 1.01104740e+01 1.11733152e-07] [-2.98379422e-03  6.65751210e-08]\n",
      "iteration 0 accepted [156.76842784] [8.87573225e+01 9.46806848e+00 1.01069594e+01 7.86153050e-08] [-2.87252230e-03  4.68759267e-08]\n",
      "iteration 0 accepted [156.6887286] [8.92609720e+01 9.46806843e+00 1.01035379e+01 5.43943121e-08] [-2.76531926e-03  3.24561689e-08]\n",
      "iteration 0 accepted [156.61418694] [8.97644876e+01 9.46806839e+00 1.01002090e+01 3.69492370e-08] [-2.66209819e-03  2.20616796e-08]\n",
      "iteration 0 accepted [156.54450699] [9.02678747e+01 9.46806837e+00 1.00969721e+01 2.45893448e-08] [-2.56277133e-03  1.46912224e-08]\n",
      "iteration 0 accepted [156.47940644] [9.07711388e+01 9.46806835e+00 1.00938263e+01 1.59870967e-08] [-2.46725023e-03  9.55756503e-09]\n",
      "iteration 0 accepted [156.41861626] [9.12742850e+01 9.46806833e+00 1.00907710e+01 1.01162748e-08] [-2.37544593e-03  6.05137263e-09]\n",
      "iteration 0 accepted [156.36188031] [9.17773183e+01 9.46806833e+00 1.00878051e+01 6.19630837e-09] [-2.28726916e-03  3.70861026e-09]\n",
      "iteration 0 accepted [156.30895497] [9.22802437e+01 9.46806832e+00 1.00849278e+01 3.64342008e-09] [-2.20263047e-03  2.18183335e-09]\n",
      "iteration 0 accepted [156.25960882] [9.27830660e+01 9.46806832e+00 1.00821378e+01 2.02869974e-09] [-2.12144041e-03  1.21549522e-09]\n",
      "iteration 0 accepted [156.2136222] [9.32857897e+01 9.46806832e+00 1.00794342e+01 1.04292957e-09] [-2.04360966e-03  6.25176818e-10]\n",
      "iteration 0 accepted [156.17078682] [9.37884196e+01 9.46806831e+00 1.00768157e+01 4.67694621e-10] [-1.96904918e-03  2.80484423e-10]\n",
      "iteration 0 accepted [156.13090541] [9.42909599e+01 9.46806831e+00 1.00742810e+01 1.52124676e-10] [-1.89767033e-03  9.12688889e-11]\n",
      "iteration 0 accepted [156.09379127] [ 9.47934148e+01  9.46806831e+00  1.00718289e+01 -5.41539109e-12] [-1.82938497e-03 -3.25606135e-12]\n",
      "iteration 0 accepted [156.05926788] [ 9.52957887e+01  9.46806831e+00  1.00694581e+01 -7.14613386e-11] [-1.76410563e-03 -4.29179274e-11]\n",
      "iteration 0 accepted [156.02716854] [ 9.57980853e+01  9.46806831e+00  1.00671671e+01 -8.81212801e-11] [-1.70174553e-03 -5.29417156e-11]\n",
      "iteration 0 accepted [155.9973359] [ 9.63003086e+01  9.46806831e+00  1.00649545e+01 -8.09477573e-11] [-1.64221877e-03 -4.86492582e-11]\n",
      "iteration 0 accepted [155.96962162] [ 9.68024624e+01  9.46806831e+00  1.00628188e+01 -6.46154412e-11] [-1.58544033e-03 -3.88478033e-11]\n",
      "iteration 0 accepted [155.94388597] [ 9.73045503e+01  9.46806831e+00  1.00607586e+01 -4.69121030e-11] [-1.53132622e-03 -2.82130330e-11]\n",
      "iteration 0 accepted [155.91999743] [ 9.78065757e+01  9.46806831e+00  1.00587724e+01 -3.14466374e-11] [-1.47979349e-03 -1.89185605e-11]\n",
      "iteration 0 accepted [155.89783234] [ 9.83085421e+01  9.46806831e+00  1.00568586e+01 -1.94580449e-11] [-1.43076036e-03 -1.17087552e-11]\n",
      "iteration 0 accepted [155.87727449] [ 9.88104527e+01  9.46806831e+00  1.00550156e+01 -1.09409029e-11] [-1.38414625e-03 -6.58600366e-12]\n",
      "iteration 0 accepted [155.85821479] [ 9.93123106e+01  9.46806831e+00  1.00532420e+01 -5.34796686e-12] [-1.33987184e-03 -3.22020994e-12]\n",
      "iteration 0 accepted [155.84055093] [ 9.98141189e+01  9.46806831e+00  1.00515361e+01 -1.96793625e-12] [-1.29785911e-03 -1.18567333e-12]\n",
      "iteration 0 accepted [155.46474054] [ 1.00310828e+02  9.32460990e+00  1.00498977e+01 -8.05120206e-02] [-0.00125253  0.02031136]\n",
      "iteration 0 accepted [154.79438289] [100.77054543   9.01164644  10.04833985  -0.22720765] [-0.00116392  0.05729646]\n",
      "iteration 0 accepted [153.81508877] [101.16389938   8.60163176  10.04693045  -0.38061247] [-0.00098285  0.09593227]\n",
      "iteration 0 accepted [152.57169627] [101.49249207   8.15304534  10.04573088  -0.51177973] [-0.00070307  0.12877982]\n",
      "iteration 0 accepted [151.24113325] [101.77547716   7.69603181  10.0449057   -0.61272249] [-0.00033624  0.15423538]\n",
      "iteration 0 accepted [150.00865784] [102.03585706   7.24483747  10.04452028  -0.68364928] [7.39337262e-05 1.72088237e-01]\n",
      "iteration 0 accepted [149.02672643] [102.29026726   6.80243704  10.0447035   -0.72939869] [0.00049462 0.18362107]\n",
      "iteration 0 accepted [148.42172715] [102.54803929   6.36825567  10.04543583  -0.75564746] [0.0009015  0.19030463]\n",
      "iteration 0 accepted [148.29334613] [102.81491325   5.94200725  10.04688715  -0.7670107 ] [0.00127258 0.19328252]\n",
      "iteration 0 accepted [148.67288146] [103.09737514   5.52630643  10.04937853  -0.76597946] [0.00156919 0.19305012]\n",
      "iteration 0 accepted [149.64967799] [103.39467579   5.11984892  10.05287403  -0.75581329] [0.0017934  0.19057436]\n",
      "iteration 0 accepted [151.12033793] [103.71496205   4.72855643  10.05794225  -0.73661179] [0.00189031 0.18567929]\n",
      "iteration 0 accepted [156.5736905] [103.92374846   4.25891798  10.05727045  -0.73961876] [0.00269108 0.18987598]\n",
      "iteration 0 accepted [155.87474741] [104.41025036   3.9846405   10.07262675  -0.68080554] [0.00174623 0.1716203 ]\n",
      "iteration 0 accepted [156.34457353] [104.87066175   3.69993269  10.08678243  -0.63123772] [0.00095631 0.15712242]\n",
      "iteration 0 accepted [156.65362866] [105.35018119   3.43797924  10.10262028  -0.58202694] [2.34500590e-05 1.42841866e-01]\n",
      "iteration 0 accepted [157.12453058] [105.83650172   3.19116333  10.11932893  -0.53569589] [-0.00098891  0.12960514]\n",
      "iteration 0 accepted [156.70909102] [106.3526378    2.97961728  10.13843103  -0.48982243] [-0.00224039  0.11610466]\n",
      "iteration 0 accepted [155.62501033] [106.88693706   2.7948327   10.15928304  -0.44700168] [-0.00365121  0.10321806]\n",
      "iteration 0 accepted [152.33029127] [107.46565639   2.66405346  10.18249752  -0.40578919] [-0.00540569  0.0896309 ]\n",
      "iteration 0 accepted [146.19113407] [108.09457812   2.59046889  10.20938405  -0.36792298] [-0.00746024  0.07551523]\n",
      "iteration 0 accepted [135.05262515] [108.8143761    2.62169705  10.24031332  -0.33341843] [-0.01003666  0.05872195]\n",
      "iteration 0 accepted [128.91802527] [109.42569334   2.54861685  10.26095275  -0.30972561] [-0.01167802  0.0486606 ]\n",
      "iteration 0 accepted [112.86461084] [110.25795499   2.71802011  10.29174525  -0.29077177] [-0.01446308  0.02810183]\n",
      "iteration 0 accepted [103.96743585] [110.93930461   2.71639521  10.30973383  -0.28009176] [-0.01583145  0.01617322]\n",
      "iteration 0 accepted [95.89667905] [111.6037258    2.69697555  10.32315839  -0.27443653] [-0.01680116  0.00510902]\n",
      "iteration 0 accepted [88.65355878] [112.24732466   2.66715047  10.33287401  -0.27360743] [-0.01748008 -0.00585868]\n",
      "iteration 0 accepted [82.26976072] [112.8610616    2.62427966  10.34009106  -0.27680411] [-0.01790085 -0.01681383]\n",
      "iteration 0 accepted [76.42798363] [113.44771432   2.57365403  10.34484555  -0.28442459] [-0.01804076 -0.0286615 ]\n",
      "iteration 0 accepted [70.77234426] [113.99771179   2.49558972  10.34743171  -0.28927208] [-0.01791558 -0.03798955]\n",
      "iteration 0 accepted [65.95841596] [114.52865184   2.40435292  10.34893592  -0.29103382] [-0.01765938 -0.04513149]\n",
      "iteration 0 accepted [62.14610371] [115.05017637   2.30749279  10.35005813  -0.28999485] [-0.01735779 -0.05041771]\n",
      "iteration 0 accepted [58.99867198] [115.56731615   2.20815756  10.35164743  -0.28600428] [-0.01708862 -0.05382875]\n",
      "iteration 0 accepted [56.32201318] [116.083398     2.11124199  10.35267206  -0.28132736] [-0.0167881  -0.05666209]\n",
      "iteration 0 accepted [53.96730793] [116.59915688   2.01629164  10.35369901  -0.27540269] [-0.01650408 -0.058613  ]\n",
      "iteration 0 accepted [51.83842736] [117.11534034   1.92455842  10.354283    -0.26910996] [-0.01620224 -0.06018843]\n",
      "iteration 0 accepted [49.86256829] [117.63209191   1.83559419  10.35486558  -0.26203152] [-0.01592155 -0.06114188]\n",
      "iteration 0 accepted [47.99395737] [118.14957696   1.74972439  10.35534657  -0.25448567] [-0.01565373 -0.06164846]\n",
      "iteration 0 accepted [46.20092629] [118.66777432   1.66659991  10.35603852  -0.24623013] [-0.01542794 -0.06154154]\n",
      "iteration 0 accepted [44.46596802] [119.18672535   1.58678977  10.35649568  -0.23793138] [-0.01520243 -0.0612153 ]\n",
      "iteration 0 accepted [42.77587178] [119.70628334   1.51011129  10.35679629  -0.22952477] [-0.01498736 -0.06062076]\n",
      "iteration 0 accepted [41.13304995] [120.22571887   1.43676652  10.35667871  -0.22104551] [-0.01478704 -0.0597667 ]\n"
     ]
    },
    {
     "name": "stdout",
     "output_type": "stream",
     "text": [
      "iteration 0 accepted [39.52482815] [120.74554339   1.36661775  10.35624277  -0.21274404] [-0.01458205 -0.05881813]\n",
      "iteration 0 accepted [37.94506724] [121.26587659   1.29920109  10.35575675  -0.20445146] [-0.01438774 -0.05766202]\n",
      "iteration 0 accepted [36.39915571] [121.78633499   1.23516547  10.35471947  -0.19659737] [-0.01417053 -0.05659361]\n",
      "iteration 0 accepted [34.88376918] [122.30691869   1.17378074  10.35353621  -0.1887919 ] [-0.01396427 -0.05534827]\n",
      "iteration 0 accepted [33.40239723] [122.82747369   1.11510948  10.35210142  -0.18113771] [-0.01376161 -0.05399911]\n",
      "iteration 0 accepted [31.95937768] [123.34787072   1.05971505  10.35007859  -0.17401816] [-0.01353097 -0.05283042]\n",
      "iteration 0 accepted [30.54301022] [123.86884937   1.0052879   10.34875331  -0.16633431] [-0.01336244 -0.05104873]\n",
      "iteration 0 accepted [29.17066821] [124.38951445   0.95388597  10.34685735  -0.15915373] [-0.01316865 -0.04943489]\n",
      "iteration 0 accepted [27.83949452] [124.90996533   0.90495078  10.34466634  -0.15223512] [-0.01296939 -0.04782276]\n",
      "iteration 0 accepted [26.54951876] [125.43019263   0.85820749  10.34227525  -0.14548377] [-0.01277194 -0.04615033]\n",
      "iteration 0 accepted [25.30253274] [125.95016202   0.81381169  10.33959506  -0.13902785] [-0.01256592 -0.04452288]\n",
      "iteration 0 accepted [24.09801032] [126.46979177   0.77149318  10.33669186  -0.13275784] [-0.01235975 -0.04286647]\n",
      "iteration 0 accepted [22.93475712] [ 1.26989145e+02  7.30742747e-01  1.03337446e+01 -1.26467605e-01] [-0.01216729 -0.04103292]\n",
      "iteration 0 accepted [21.8172118] [ 1.27507912e+02  6.92515116e-01  1.03303111e+01 -1.20649044e-01] [-0.01195376 -0.03940355]\n",
      "iteration 0 accepted [20.74325774] [ 1.28026223e+02  6.56527339e-01  1.03265405e+01 -1.15213034e-01] [-0.0117262  -0.03792051]\n",
      "iteration 0 accepted [19.7093987] [ 1.28544160e+02  6.21980778e-01  1.03227032e+01 -1.09796156e-01] [-0.01150854 -0.03631507]\n",
      "iteration 0 accepted [18.71728281] [ 1.29061498e+02  5.89320158e-01  1.03185767e+01 -1.04638604e-01] [-0.01128534 -0.03477674]\n",
      "iteration 0 accepted [17.76598591] [ 1.29578437e+02  5.58296795e-01  1.03143008e+01 -9.96736503e-02] [-0.01106028 -0.03326253]\n",
      "iteration 0 accepted [16.8551364] [ 1.30094965e+02  5.28981068e-01  1.03098470e+01 -9.49708210e-02] [-0.01082934 -0.03183197]\n",
      "iteration 0 accepted [15.98222692] [ 1.30610980e+02  5.01059064e-01  1.03052544e+01 -9.03853733e-02] [-0.01060109 -0.03038085]\n",
      "iteration 0 accepted [15.14750303] [ 1.31126668e+02  4.74499179e-01  1.03005913e+01 -8.59537338e-02] [-0.01037262 -0.02894334]\n",
      "iteration 0 accepted [14.34982342] [ 1.31641901e+02  4.49404057e-01  1.02957796e+01 -8.17480023e-02] [-0.01014054 -0.02757931]\n",
      "iteration 0 accepted [13.58727879] [ 1.32156716e+02  4.25492279e-01  1.02908914e+01 -7.76481846e-02] [-0.00991075 -0.02620312]\n",
      "iteration 0 accepted [12.85958352] [ 1.32671047e+02  4.02999399e-01  1.02858491e+01 -7.38088076e-02] [-0.00967622 -0.02493637]\n",
      "iteration 0 accepted [12.16540169] [ 1.33184902e+02  3.81866843e-01  1.02806711e+01 -7.02286973e-02] [-0.00943772 -0.02378257]\n",
      "iteration 0 accepted [11.50289626] [ 1.33698348e+02  3.61772696e-01  1.02754455e+01 -6.67588653e-02] [-0.00920179 -0.02263365]\n",
      "iteration 0 accepted [10.87099377] [ 1.34211397e+02  3.42625433e-01  1.02701892e+01 -6.33733823e-02] [-0.00896923 -0.02147415]\n",
      "iteration 0 accepted [10.2685119] [ 1.34724047e+02  3.24334078e-01  1.02649109e+01 -6.00431532e-02] [-0.00874085 -0.02028609]\n",
      "iteration 0 accepted [9.69558387] [ 1.35236249e+02  3.07287260e-01  1.02595262e+01 -5.70237186e-02] [-0.00850765 -0.01926511]\n",
      "iteration 0 accepted [9.15028578] [ 1.35748048e+02  2.91200152e-01  1.02541014e+01 -5.41719538e-02] [-0.00827523 -0.01830699]\n",
      "iteration 0 accepted [8.63132467] [ 1.36259475e+02  2.75897280e-01  1.02486756e+01 -5.14056553e-02] [-0.00804635 -0.01735322]\n",
      "iteration 0 accepted [8.13782674] [ 1.36770533e+02  2.61374416e-01  1.02432471e+01 -4.87446769e-02] [-0.00782035 -0.01642174]\n",
      "iteration 0 accepted [7.66662111] [ 1.37281526e+02  2.45919960e-01  1.02381524e+01 -4.51270291e-02] [-0.00762469 -0.01472072]\n",
      "iteration 0 accepted [7.22288549] [ 1.37791507e+02  2.34290505e-01  1.02323952e+01 -4.36144416e-02] [-0.00738032 -0.01454337]\n",
      "iteration 0 accepted [6.80070834] [ 1.38301398e+02  2.22472533e-01  1.02268819e+01 -4.16445249e-02] [-0.00715391 -0.01397648]\n",
      "iteration 0 accepted [6.39836619] [ 1.38811198e+02  2.09893953e-01  1.02216564e+01 -3.88425293e-02] [-0.00695256 -0.01274019]\n",
      "iteration 0 accepted [6.01955619] [ 1.39320287e+02  2.00146262e-01  1.02160561e+01 -3.76415899e-02] [-0.0067213  -0.01265987]\n",
      "iteration 0 accepted [5.65919808] [ 1.39829210e+02  1.90104372e-01  1.02106650e+01 -3.59332734e-02] [-0.00650765 -0.01215841]\n",
      "iteration 0 accepted [5.31753704] [ 1.40337876e+02  1.80312616e-01  1.02053757e+01 -3.41084501e-02] [-0.00630255 -0.01153001]\n",
      "iteration 0 accepted [4.99412114] [ 1.40846253e+02  1.70952725e-01  1.02001513e+01 -3.23104269e-02] [-0.00610263 -0.01088416]\n",
      "iteration 0 accepted [4.68824089] [ 1.41354336e+02  1.62071071e-01  1.01949824e+01 -3.05883929e-02] [-0.00590684 -0.01025967]\n",
      "iteration 0 accepted [4.39912607] [ 1.41862130e+02  1.53667248e-01  1.01898693e+01 -2.89578767e-02] [-0.00571491 -0.00967006]\n",
      "iteration 0 accepted [4.12621648] [ 1.42369602e+02  1.45976827e-01  1.01847790e+01 -2.76074424e-02] [-0.00552389 -0.00925908]\n",
      "iteration 0 accepted [3.86828615] [ 1.42876843e+02  1.38473003e-01  1.01797918e+01 -2.61587437e-02] [-0.00534008 -0.00874352]\n",
      "iteration 0 accepted [3.62495414] [ 1.43383808e+02  1.31450940e-01  1.01748633e+01 -2.48484890e-02] [-0.00515961 -0.00830321]\n",
      "iteration 0 accepted [3.39502293] [ 1.43890526e+02  1.24564357e-01  1.01700284e+01 -2.34235121e-02] [-0.00498621 -0.0077486 ]\n",
      "iteration 0 accepted [3.17841896] [ 1.44396994e+02  1.18089236e-01  1.01652629e+01 -2.21124909e-02] [-0.00481636 -0.0072536 ]\n",
      "iteration 0 accepted [2.97455663] [ 1.44903227e+02  1.12044752e-01  1.01605702e+01 -2.09426683e-02] [-0.00464983 -0.00684021]\n",
      "iteration 0 accepted [2.78262188] [ 1.45409233e+02  1.06323114e-01  1.01559597e+01 -1.98389390e-02] [-0.00448765 -0.00645303]\n",
      "iteration 0 accepted [2.60200329] [ 1.45915019e+02  1.00906958e-01  1.01514329e+01 -1.87981053e-02] [-0.00432983 -0.00609086]\n",
      "iteration 0 accepted [2.43217648] [ 1.46420593e+02  9.58098216e-02  1.01469905e+01 -1.78414953e-02] [-0.00417614 -0.00577104]\n",
      "iteration 0 accepted [2.27251342] [ 1.46925962e+02  9.09662020e-02  1.01426371e+01 -1.69247540e-02] [-0.00402702 -0.00546108]\n",
      "iteration 0 accepted [2.12249884] [ 1.47431132e+02  8.63737295e-02  1.01383728e+01 -1.60553991e-02] [-0.00388233 -0.00516771]\n",
      "iteration 0 accepted [1.98163118] [ 1.47936110e+02  8.20226272e-02  1.01341982e+01 -1.52341671e-02] [-0.00374203 -0.00489247]\n",
      "iteration 0 accepted [1.84942686] [ 1.48440902e+02  7.79004223e-02  1.01301145e+01 -1.44589684e-02] [-0.00360606 -0.00463473]\n",
      "iteration 0 accepted [1.72542172] [ 1.48945516e+02  7.39941327e-02  1.01261223e+01 -1.37267703e-02] [-0.0034744  -0.00439306]\n",
      "iteration 0 accepted [1.6091711] [ 1.49449958e+02  7.02912073e-02  1.01222224e+01 -1.30344377e-02] [-0.00334701 -0.00416595]\n",
      "iteration 0 accepted [1.50024953] [ 1.49954235e+02  6.67798696e-02  1.01184151e+01 -1.23790649e-02] [-0.00322384 -0.00395198]\n"
     ]
    }
   ],
   "source": [
    "N = len(x_path)\n",
    "H = 30  # Number of time steps in trajectory.\n",
    "J_hist = []\n",
    "expert_traj = []\n",
    "\n",
    "x0 = x_path[0][:]  # Initial state.\n",
    "# Random initial action path.\n",
    "#us_init = np.random.uniform(-1, 1, (H - 1, dynamics.action_size))\n",
    "us_init = np.zeros((H - 1, dynamics.action_size))\n",
    "\n",
    "for i in range(0, int(N - H) + 1):\n",
    "    k = 1\n",
    "    if i % k != 0:\n",
    "        continue\n",
    "        #pass\n",
    "    x_path_ = x_path[i: i + H]\n",
    "    cost = CarCost(Q = Q, q = q, R = R, r = r, A = A, b = b, q1 = q1, q2 = q2, x_path = x_path_, x_nominal = nominal)\n",
    "    ilqr = iLQR(dynamics, cost, H - 1)\n",
    "    xs, us = ilqr.fit(x0, us_init, on_iteration=on_iteration)\n",
    "\n",
    "    x0 = xs[k][:]\n",
    "    expert_traj = expert_traj + [[xs[i], us[i]] for i in range(k)]\n",
    "\n"
   ]
  },
  {
   "cell_type": "markdown",
   "metadata": {},
   "source": [
    "The result can be visulized by executing the following code."
   ]
  },
  {
   "cell_type": "code",
   "execution_count": 38,
   "metadata": {},
   "outputs": [],
   "source": [
    "X = []\n",
    "Y = []\n",
    "posx = []\n",
    "posy = []\n",
    "v = []\n",
    "theta = []\n",
    "\n",
    "for i in expert_traj:\n",
    "    posx.append(i[0][0])\n",
    "    posy.append(i[0][1])\n",
    "    v.append(i[0][2])\n",
    "    theta.append(i[0][3])\n",
    "\n",
    "\n",
    "\n",
    "posx_ = np.asarray(x_path)[:, 0]\n",
    "posy_ = np.asarray(x_path)[:, 1]\n",
    "\n",
    "#pickle.dump((X, Y), open('expert_traj.p', 'wb'))"
   ]
  },
  {
   "cell_type": "markdown",
   "metadata": {},
   "source": [
    "The red curve in this plot is the trajecotry of the MPC vehicle. "
   ]
  },
  {
   "cell_type": "code",
   "execution_count": 39,
   "metadata": {},
   "outputs": [
    {
     "data": {
      "image/png": "[encoded data removed]",
      "text/plain": [
       "<Figure size 432x288 with 1 Axes>"
      ]
     },
     "metadata": {
      "needs_background": "light"
     },
     "output_type": "display_data"
    }
   ],
   "source": [
    "\n",
    "_ = plt.title(\"Trajectory of the two omnidirectional vehicles\")\n",
    "_ = plt.plot(posx, posy, \"r\")\n",
    "\n",
    "_ = plt.plot(posx_, posy_, \"b\")\n",
    "_ = plt.plot(posx_, posy_ + 3.0, 'g')\n",
    "_ = plt.plot(posx_, posy_ - 3.0, 'g')\n",
    "_ = plt.legend([\"Vehicle\", \"Reference Path\"])"
   ]
  },
  {
   "cell_type": "code",
   "execution_count": 31,
   "metadata": {},
   "outputs": [],
   "source": [
    "pickle.dump((X, Y), open('expert_pts_17358_H10.p', 'wb'))"
   ]
  },
  {
   "cell_type": "markdown",
   "metadata": {},
   "source": [
    "Now train a simple regression model to output control given the current coordinate."
   ]
  },
  {
   "cell_type": "code",
   "execution_count": 8,
   "metadata": {},
   "outputs": [
    {
     "name": "stdout",
     "output_type": "stream",
     "text": [
      "27416\n"
     ]
    }
   ],
   "source": [
    "n = 10\n",
    "agent = NeuralNetwork(input_size = (n + 1) * 4, model_name = 'mlp_H10', batch_size = 1000, checkpoint = 'checkpoints/mlp_H10_995.pt')\n",
    "\n",
    "agent.data_process(paths = ['expert_pts_10058_H10.p', 'expert_pts_17358_H10.p'])\n",
    "#agent.train(num_epoch = 1000)\n"
   ]
  },
  {
   "cell_type": "code",
   "execution_count": 9,
   "metadata": {},
   "outputs": [
    {
     "name": "stderr",
     "output_type": "stream",
     "text": [
      "/home/depend/virtualenv_py3/lib/python3.5/site-packages/torch/nn/functional.py:1006: UserWarning: nn.functional.sigmoid is deprecated. Use torch.sigmoid instead.\n",
      "  warnings.warn(\"nn.functional.sigmoid is deprecated. Use torch.sigmoid instead.\")\n",
      "/home/depend/virtualenv_py3/lib/python3.5/site-packages/torch/nn/functional.py:995: UserWarning: nn.functional.tanh is deprecated. Use torch.tanh instead.\n",
      "  warnings.warn(\"nn.functional.tanh is deprecated. Use torch.tanh instead.\")\n"
     ]
    },
    {
     "name": "stdout",
     "output_type": "stream",
     "text": [
      "Done\n"
     ]
    }
   ],
   "source": [
    "\n",
    "agent_traj = []\n",
    "batch_size = 100\n",
    "for i_batch in range(batch_size):\n",
    "    agent_traj.append([])\n",
    "    x0 = [[x_path[0][0] + 1.0 * (2 * random.random() - 1.0), \\\n",
    "              x_path[0][1] + 3.0 * (2 * random.random() - 1.0), \\\n",
    "              x_path[0][2] + 1.0 * (2 * random.random() - 1.0), \\\n",
    "              x_path[0][3] + 3.0 * (2 * random.random() - 1.0)]]  # Initial state.\n",
    "\n",
    "    N = 300\n",
    "    n = 10\n",
    "    for i in range(0, int(N - n) + 1):\n",
    "        x = []\n",
    "        for j in x0[0]:\n",
    "            x.append(j)\n",
    "        for j in range(len(x_path[i: i + n])):\n",
    "            for k in range(len(x_path[j + i])):\n",
    "                x.append(x_path[j + i][k])\n",
    "\n",
    "        u = agent.run([x])\n",
    "        agent_traj[-1] = agent_traj[-1] + [[x[:], u[0]]]\n",
    "        x0 = dynamics.f(x[0:4], u[0], i)\n",
    "\n",
    "print(\"Done\")"
   ]
  },
  {
   "cell_type": "markdown",
   "metadata": {},
   "source": [
    "The red curve in the plot shows the trajectory of the regression model controller."
   ]
  },
  {
   "cell_type": "code",
   "execution_count": 15,
   "metadata": {},
   "outputs": [
    {
     "data": {
      "image/png": "[encoded data removed]",
      "text/plain": [
       "<Figure size 432x288 with 1 Axes>"
      ]
     },
     "metadata": {
      "needs_background": "light"
     },
     "output_type": "display_data"
    }
   ],
   "source": [
    "plt.title(\"Trajectory of the two omnidirectional vehicles\")\n",
    "plt.legend([\"Vehicle\", \"Reference Path\"])\n",
    "posx_ = np.asarray(x_path)[:, 0]\n",
    "posy_ = np.asarray(x_path)[:, 1]\n",
    "plt.plot(posx_, posy_, \"b\")\n",
    "plt.plot(posx_, posy_ + 3.0, 'g')\n",
    "plt.plot(posx_, posy_ - 3.0, 'g')\n",
    "\n",
    "posx = []\n",
    "posy = []\n",
    "v = []\n",
    "theta = []\n",
    "for i in agent_traj:\n",
    "    posx.append([])\n",
    "    posy.append([])\n",
    "    v.append([])\n",
    "    theta.append([])\n",
    "    for j in i:\n",
    "        posx[-1].append(j[0][0])\n",
    "        posy[-1].append(j[0][1])\n",
    "        v[-1].append(j[0][2])\n",
    "        theta[-1].append(j[0][3])\n",
    "        plt.plot(posx[-1], posy[-1], \"r\")\n",
    "\n",
    "plt.show()"
   ]
  },
  {
   "cell_type": "markdown",
   "metadata": {},
   "source": [
    "Now implement the MPSC guided controller. MPSC solves feasiblity problem to verify the safety of each output of the regression model. Once the output is unsafe, then MPC solves an optimal control and overrides the regression model."
   ]
  },
  {
   "cell_type": "markdown",
   "metadata": {},
   "source": [
    "The red curve in the plot is the trajecotry of the hybrid controller. It can be seen that the vehicle still drive out of the lane boundaries even with the existence of the MPSC. It is because horizon being 30 is too short to predict the unsafe outcome and prevent the vehicle from moving out of the boundary."
   ]
  },
  {
   "cell_type": "markdown",
   "metadata": {},
   "source": [
    "The red dots are the steering commands output by the regression model while the blue dots are from the MPC."
   ]
  },
  {
   "cell_type": "markdown",
   "metadata": {},
   "source": [
    "MPSC Guided Learning\n",
    "=====================\n",
    "\n",
    "I have considered two algorithms different from what we have discussed. Instead of filtering the learning-based controller's output during deploying phase, MPC can be used as a filter during training phase. The ultimate goal is that the learning model maintains high performance while avoiding performing unsafe behavior.\n",
    "\n",
    "The basic set up is that the environment has state space $X$, control space $U$ as well as the known, perhaps nonlinear dynamics $x_{k+1} = f(x_k, u_k)$ where $x_k,u_k$ are current state and action pairs and $x_{k+1}$ is next state. Given a learning based controller $g:X\\times \\Theta\\rightarrow U$ where $\\Theta$ is the parameter space, a set of trajectories $\\{\\tau_i|\\tau_i=(x^{(i)}_0, u^{(i)}_0, x^{(i)}_1, u^{(i)}_1, \\ldots)\\}$ can be obtained by executing $g$. Define the convex set of safe states $\\{x|x\\in X, UNSAFE(x)\\leq 0\\}$. Assume that an unsafe controller $g$ is at hand. It can generate at least one trajectory $\\tau=(x_0, a_0, x_1, a_1, \\ldots x_T, a_T\\}$ that reaches an unsafe state."
   ]
  },
  {
   "cell_type": "markdown",
   "metadata": {},
   "source": [
    "The algorithm is inspired by the motivation of iLQR, which is to linearize the nonlinear dynamics. Given one trajectory $\\tau$, a perturbation can be added to this trajectory, i.e. $x_k\\rightarrow x_k + \\delta x_k, u_k\\rightarrow u_k +\\delta u_k$. Then the relationship between $\\delta x_k,\\delta u_k$ can be obtained as follows.\n",
    "\n",
    "\\begin{eqnarray}\n",
    "x_{k+1} &=& f(x_k, u_k)\\\\\n",
    "x_{k+1} \\delta x_{k+1} &=& f(x_k+\\delta x_k, u_k + \\delta u_k) \\\\\n",
    "\\delta x_{k+1} &=& f(x_k+\\delta, u_k + \\delta u_k) - f(x_k, u_k)\\\\\n",
    "&\\approx& \\nabla_x f(x_k, u_k) \\delta x_k + \\nabla_u f(x_k, u_k) \\delta u_k\n",
    "\\end{eqnarray}\n"
   ]
  },
  {
   "cell_type": "markdown",
   "metadata": {},
   "source": [
    "<h2>MPSC Guided Policy Search</h2>\n",
    "\n",
    "Usually, learning-based controller upates its model parameter iteratively during the training phase. We can use MPSC to filter the update. It is already known that $u_k=g(x_k, \\theta)$.Then the following equation holds.\n",
    "\n",
    "\\begin{eqnarray}\n",
    "u_k &=& g(x_k, \\theta)\\\\\n",
    "u_k + \\delta u_k &=& g(x_k + \\delta x_k, \\theta + \\delta \\theta)\\\\\n",
    "\\delta u_k &\\approx& \\nabla_x g(x_k, \\theta) \\delta x_k + \\nabla_\\theta g(x_k, \\theta) \\delta \\theta\n",
    "\\end{eqnarray}\n",
    "\n",
    "Then interpolate it into the linearized dynmics. \n",
    "$$\\delta x_{k+1} \\approx [\\nabla_x f(x_k, u_k)  + \\nabla_u f(x_k, u_k) \\nabla_x g(x_k, \\theta) ]\\delta x_k + \\nabla_u f(x_k, u_k) \\nabla_\\theta g(x_k, \\theta) \\delta \\theta$$\n",
    "\n",
    "\n",
    "At this end, we can determine our MPSC problem as, finding the minimal perturbation on the learning model parameters such that the unsafe trajecotries becomes safe.\n",
    "\n",
    "To estimate the perturbation on the learning model, one choise is to use L-2 norm of the perturbation on the model parameters, i.e. $||\\delta \\theta||^2_2$, the other choise is to evaluate the increase on the loss $J_D()$ given the same data set $D$, i.e. $J_D (\\theta + \\delta\\theta) - J_D(\\theta)$. Note that now the decision variables are $\\delta x, \\delta u$ and $\\delta \\theta$. Now we consider using the second choice as the loss function.\n",
    "\n",
    "Since $J_D(\\theta + \\delta\\theta) - J_D(\\theta)\\approx\\nabla J_D(\\theta) \\delta \\theta\\approx \\nabla J_D(\\theta)\\delta\\theta + \\delta\\theta^T \\nabla^2 J_D(\\theta) \\delta\\theta $. We can use this Taylor expansion to replace the loss. Assuming that $\\theta$ is already a local optimal solution, then $\\delta\\theta^T\\nabla^2 J_D(\\theta)\\delta\\theta$ is positive definite and $\\nabla J_D(\\theta)\\delta\\theta=0$. Then we can use the second order term. Since the constraints and objective are convex, this is a convex optimization problem.\n",
    "\n",
    "\\begin{eqnarray}\n",
    "\\underset{\\delta\\theta}{min}&&\\delta\\theta^T \\nabla J_D(\\theta)\\delta\\theta \\\\\n",
    "s.t. && \\delta x_{k+1} = [\\nabla_x f(x_k, u_k)  + \\nabla_u f(x_k, u_k) \\nabla_x g(x_k, \\theta) ]\\delta x_k + \\nabla_u f(x_k, u_k) \\nabla_\\theta g(x_k, \\theta) \\delta \\theta\\qquad k=0, 1, 2, \\ldots, T\\\\\n",
    "&& \\delta x_0 = 0\\\\\n",
    "&& UNSAFE(x_k+\\delta x_k)\\leq 0\\qquad k=0, 1, 2, \\ldots, T\n",
    "\\end{eqnarray}\n",
    "\n",
    "However, if $\\theta$ is not a local optimal solution but an intermediate model parameter, then the loss is linear $\\nabla J_D(\\theta) \\delta\\theta$ or quadratic $\\nabla J_D(\\theta) \\delta\\theta + \\delta\\theta^T \\nabla^2 J_D(\\theta) \\delta\\theta$. \n",
    "\n",
    "For the linear case, the optimization problem is convex but also suffers high approximation error. We can alleviate this issue by adding a trust region regularizer. Thus the objective becomes $\\underset{\\delta\\theta}{min}\\ \\nabla J_D(\\theta) \\delta\\theta + \\lambda ||\\delta\\theta||^2_2$ where $\\lambda$ is a lagrangian variable (constant). The steepest descent direction is $\\nabla J_D(\\theta) + 2\\lambda \\delta\\theta$.\n",
    "\n",
    "For the quadratic case, the steepest descent direction is $\\nabla J_D(\\theta) + \\nabla^2 J_D(\\theta) + 2\\lambda \\delta\\theta$ where the trust region regularizer is retained.\n",
    "\n",
    "Naively, the solved $\\delta \\theta$ can be applied to the learning model parameter in every iteration. For instance, when using policy gradient to train a parameterized policy $\\pi_\\theta: X\\rightarrow U$, after every gradient step $\\theta_{i-1} \\rightarrow \\theta_{i}$, the resulted policy $\\pi_{\\theta_i}$ is used to generated samples for the next optimization. Then MPC formulated above can be implemented to the unsafe trajectories (or multiple trajecotries nearby the unsafe set) to further update the policy parameter $\\theta_i\\rightarrow \\theta_i + \\delta \\theta_i$. \n",
    "\n",
    "We can also combine the two steps, i.e. perturbing $\\theta_{i-1}$ with $\\delta\\theta_{i-1}$ and updating $\\theta_{i-1}\\rightarrow \\theta_{i}$, since both the search directions contain $\\nabla_\\theta J_D(\\theta_{i-1})$ term. Hence, we can use a line search along $\\nabla_\\theta J_D(\\theta_{i-1})$, perhaps without the trust region regularization, and the constraints confine the step length.\n"
   ]
  },
  {
   "cell_type": "markdown",
   "metadata": {},
   "source": [
    "\n",
    "\n"
   ]
  },
  {
   "cell_type": "markdown",
   "metadata": {},
   "source": [
    "<h2>MPSC Guided Imitation Learning</h2>\n",
    "\n",
    "\n",
    "Following the afformentioned basic setup, we can use MPSC in imitation learning, not to perturb the model parameter, but perturb the cost function based on the intermediate sample trajectories. \n",
    "It is known that the original IRL formula is \n",
    "$$\\underset{c}{min}\\ \\underset{\\pi}{max}\\ \\mathbb{E}_{\\pi_E}[c(x, u)] - \\mathbb{E}_{\\pi} [c(x, u)]$$\n",
    "\n",
    "It is common in model-free approaches that whenever a new intermediate policy $\\pi_{\\theta_i}$ is obtained, a set of corresponding sample trajecotries are generated to compare with the expert trajectories $E$ and update the cost function. For instance, in WGAN formulated GAIL, the update of the discriminator $D: X\\times U\\times W\\rightarrow \\mathbb{R}$ with parameter space $W$ is as follows.\n",
    "\n",
    "$$\\underset{w\\in W}{min}\\ \\mathbb{E}_{(x,u)\\sim \\pi_E}[D(x, u, w)] - \\mathbb{E}_{(x,u)\\sim\\pi_{\\theta_i}} [D(x, u, w)]$$\n",
    "\n",
    "\n",
    "\n",
    "\n",
    "Our first step is to find the minimal perturbation to the unsafe intermediate sample trajectories while maintaining high performance. Given an unsafe trajecotry $\\tau=(x_0,u_0, \\ldots, x_T, u_T)$, the quadratic cost matrices $Q, R$ standard for iLQR are obtained from the current cost $D(, ,w_{i-1})$. Then the MPSC problem is as follows.\n",
    "\\begin{eqnarray}\n",
    "\\underset{\\delta x, \\delta u}{min} && \\delta x^T Q \\delta x + \\delta u^T R \\delta u \\\\\n",
    "s.t. && \\delta x_{k+1} \\approx \\nabla_x f(x_k, u_k) \\delta x_k + \\nabla_u f(x_k, u_k) \\delta u_k \\qquad k=0, 1, 2, \\ldots, T\\\\\n",
    "&& \\delta x_0 = 0\\\\\n",
    "&& UNSAFE(x_k+\\delta x_k)\\leq 0\\qquad k=0, 1, 2, \\ldots, T\n",
    "\\end{eqnarray}\n",
    "\n",
    "Then a constraint can be added to the optimal cost problem such that the perturbed trajecotry $\\tau+\\delta\\tau$ has lower cost than $\\tau$. \n",
    "\n",
    "\\begin{eqnarray}\n",
    "\\underset{w}{min}& &\\mathbb{E}_{(x,u)\\sim \\pi_E}[D(x, u, w)] - \\mathbb{E}_{(x,u)\\sim\\pi_{\\theta_i}} [D(x, u, w_{i-1})]\\\\\n",
    "s.t. && \\sum_{(x_k+\\delta x_k,u_k + \\delta u_k)\\in \\tau+\\delta_\\tau} D(x_k + \\delta x_k,u_k + \\delta u_k, w) - \\sum_{(x_k,u_k)\\in \\tau} D(x_k,u_k, w)  \\leq 0\n",
    "\\end{eqnarray}\n",
    "\n",
    "However, since $\\tau$ is optimal w.r.t the $\\pi_{\\theta_i}$ which is optimal w.r.t $D(,, w_{i-1})$, the constraint is mostly unlike to be satisfied under $w_{i-1}$. In other word, the constraint of the problem changes in every iteration and the problem can be infeasible in the beginning of every iteration. To simplify the problem, the constraint can be manipulated as follows.\n",
    "\n",
    "If function $D$ is convex in terms of $x, u$, then subgradient can be used.\n",
    "\\begin{eqnarray}\n",
    "&&\\sum_{(x_k,u_k)\\in \\tau} D(x_k,u_k, w) - \\sum_{(x_k+\\delta x_k,u_k + \\delta u_k)\\in \\tau+\\delta_\\tau} D(x_k+\\delta x_k,u_k + \\delta u_k, w)  \\geq 0\\\\\n",
    "&\\Rightarrow& \\underset{g^{(k)}_i\\in \\partial_{(x, u)} D(x_k+\\delta x_k, u_k + \\delta u_k ,w)}{min}\\  \\sum_{(x_k,u_k)\\in\\tau} g^{(k)}_i \\cdot [-\\delta x_k, - \\delta u_k]^T\\geq 0 \n",
    "\\end{eqnarray}\n",
    "\n",
    "However, it can be problemetic to find the minimal subgradient in practice. The second proposal does not require convexity to be guaranteed. In every iteration, we can consider two cases. \n",
    "\n",
    "If $\\sum_{\\tau + \\delta\\tau} D(x_k + \\delta x_k,u_k + \\delta u_k, w_{i-1}) - \\sum_{\\tau} D(x_k,u_k, w_{i-1}) \\geq 0$, which implies that $w_{i-1}$ is feasible, then directly use barrier or penalty method to update $w_{i-1}$. \n",
    "\n",
    "If $\\sum_{\\tau + \\delta\\tau} D(x_k + \\delta x_k,u_k + \\delta u_k, w_{i-1}) - \\sum_{\\tau} D(x_k,u_k, w_{i-1}) \\leq 0$, then the constraint can be tightened by borrowing the left hand side of the inequality. Assume that a feasible update $\\delta w_{i-1}$ on $w_{i-1}$ enables $w_i = w_{i-1} + \\delta w_{i-1}$ to satisfy the tightened constraint as below.\n",
    "\n",
    "\\begin{eqnarray}\n",
    "&&\\sum_{\\tau+\\delta_\\tau} D(x_k + \\delta x_k,u_k + \\delta u_k, w_{i-1} + \\delta w_{i-1}) - \\sum_{\\tau} D(x_k,u_k, w_{i-1} + \\delta w_{i-1})\\leq \\sum_{\\tau + \\delta\\tau} D(x_k + \\delta x_k,u_k + \\delta u_k, w_{i-1}) - \\sum_{\\tau} D(x_k,u_k, w_{i-1}) \\\\\n",
    "&&\\sum_{\\tau+\\delta_\\tau} D(x_k + \\delta x_k,u_k + \\delta u_k, w_{i-1} + \\delta w_{i-1}) - \\sum_{\\tau + \\delta\\tau} D(x_k + \\delta x_k,u_k + \\delta u_k, w_{i-1}) + \\sum_{\\tau} D(x_k,u_k, w_{i-1})- \\sum_{\\tau} D(x_k,u_k, w_{i-1} + \\delta w_{i-1})  \\leq 0\\\\\n",
    "&&\\nabla_w \\sum_{\\tau + \\delta\\tau} D(x_k + \\delta x_k,u_k + \\delta u_k, w_{i-1})\\delta w_{i-1} - \\nabla_w \\sum_{\\tau} D(x_k,u_k, w_{i-1})\\delta  w_{i-1}\\leq 0\\\\\n",
    "&&\\nabla_w \\sum_{\\tau} [D(x_k + \\delta x_k,u_k + \\delta u_k, w_{i-1}) - D(x_k,u_k, w_{i-1})]\\delta w_{i-1}\\leq 0\n",
    "\\end{eqnarray}\n",
    "\n",
    "As a result, the constraint is linearized. The direction of $\\delta w_{i-1}$ can be determined by the gradient of the object while the step length is confined by this linear constraint.\n"
   ]
  },
  {
   "cell_type": "markdown",
   "metadata": {},
   "source": []
  }
 ],
 "metadata": {
  "kernelspec": {
   "display_name": "Python 3",
   "language": "python",
   "name": "python3"
  },
  "language_info": {
   "codemirror_mode": {
    "name": "ipython",
    "version": 3
   },
   "file_extension": ".py",
   "mimetype": "text/x-python",
   "name": "python",
   "nbconvert_exporter": "python",
   "pygments_lexer": "ipython3",
   "version": "3.5.2"
  }
 },
 "nbformat": 4,
 "nbformat_minor": 2
}

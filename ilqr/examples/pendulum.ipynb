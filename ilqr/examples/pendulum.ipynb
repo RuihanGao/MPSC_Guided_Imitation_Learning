{
 "cells": [
  {
   "cell_type": "markdown",
   "metadata": {},
   "source": [
    "# Inverted Pendulum Problem\n",
    "\n",
    "The state and control vectors $\\textbf{x}$ and $\\textbf{u}$ are defined as follows:\n",
    "\n",
    "$$\n",
    "\\begin{equation*}\n",
    "\\textbf{x} = \\begin{bmatrix}\n",
    "    \\theta & \\dot{\\theta}\n",
    "    \\end{bmatrix}\n",
    "\\end{equation*}\n",
    "$$\n",
    "\n",
    "$$\n",
    "\\begin{equation*}\n",
    "\\textbf{u} = \\begin{bmatrix}\n",
    "    \\tau\n",
    "    \\end{bmatrix}\n",
    "\\end{equation*}\n",
    "$$\n",
    "\n",
    "The goal is to swing the pendulum upright:\n",
    "\n",
    "$$\n",
    "\\begin{equation*}\n",
    "\\textbf{x}_{goal} = \\begin{bmatrix}\n",
    "    0 & 0\n",
    "    \\end{bmatrix}\n",
    "\\end{equation*}\n",
    "$$\n",
    "\n",
    "In order to deal with potential angle wrap-around issues (i.e. $2\\pi = 0$), we\n",
    "augment the state as follows and use that instead:\n",
    "\n",
    "$$\n",
    "\\begin{equation*}\n",
    "\\textbf{x}_{augmented} = \\begin{bmatrix}\n",
    "    \\sin\\theta & \\cos\\theta & \\dot{\\theta}\n",
    "    \\end{bmatrix}\n",
    "\\end{equation*}\n",
    "$$\n",
    "\n",
    "**Note**: The torque is constrained between $-1$ and $1$. This is achieved by\n",
    "instead fitting for unconstrained actions and then applying it to a squashing\n",
    "function $\\tanh(\\textbf{u})$. This is directly embedded into the dynamics model\n",
    "in order to be auto-differentiated. This also means that we need to apply this\n",
    "transformation manually to the output of our iLQR at the end."
   ]
  },
  {
   "cell_type": "code",
   "execution_count": 1,
   "metadata": {},
   "outputs": [],
   "source": [
    "%matplotlib inline"
   ]
  },
  {
   "cell_type": "code",
   "execution_count": 2,
   "metadata": {},
   "outputs": [],
   "source": [
    "from __future__ import print_function"
   ]
  },
  {
   "cell_type": "code",
   "execution_count": 3,
   "metadata": {},
   "outputs": [],
   "source": [
    "import numpy as np\n",
    "import matplotlib.pyplot as plt\n",
    "\n",
    "import os\n",
    "import sys\n",
    "nb_dir = os.path.split(os.getcwd())[0]\n",
    "if nb_dir not in sys.path:\n",
    "    sys.path.append(nb_dir)"
   ]
  },
  {
   "cell_type": "code",
   "execution_count": 4,
   "metadata": {},
   "outputs": [],
   "source": [
    "from ilqr import iLQR\n",
    "from ilqr.cost import QRCost\n",
    "from ilqr.dynamics import constrain\n",
    "from ilqr.examples.pendulum import InvertedPendulumDynamics"
   ]
  },
  {
   "cell_type": "code",
   "execution_count": 5,
   "metadata": {},
   "outputs": [],
   "source": [
    "def on_iteration(iteration_count, xs, us, J_opt, accepted, converged):\n",
    "    J_hist.append(J_opt)\n",
    "    info = \"converged\" if converged else (\"accepted\" if accepted else \"failed\")\n",
    "    final_state = dynamics.reduce_state(xs[-1])\n",
    "    print(\"iteration\", iteration_count, info, J_opt, final_state)"
   ]
  },
  {
   "cell_type": "code",
   "execution_count": 6,
   "metadata": {},
   "outputs": [],
   "source": [
    "dt = 0.02\n",
    "pendulum_length = 1.0\n",
    "dynamics = InvertedPendulumDynamics(dt, l=pendulum_length)"
   ]
  },
  {
   "cell_type": "code",
   "execution_count": 7,
   "metadata": {},
   "outputs": [],
   "source": [
    "# Note that the augmented state is not all 0.\n",
    "x_goal = dynamics.augment_state(np.array([0.0, 0.0]))\n",
    "Q = np.eye(dynamics.state_size)\n",
    "Q[0, 1] = Q[1, 0] = pendulum_length\n",
    "Q[0, 0] = Q[1, 1] = pendulum_length**2\n",
    "Q[2, 2] = 0.0\n",
    "Q_terminal = 100 * np.eye(dynamics.state_size)\n",
    "R = np.array([[0.1]])\n",
    "cost = QRCost(Q, R, Q_terminal=Q_terminal, x_goal=x_goal)"
   ]
  },
  {
   "cell_type": "code",
   "execution_count": 8,
   "metadata": {},
   "outputs": [],
   "source": [
    "N = 300\n",
    "x0 = dynamics.augment_state(np.array([np.pi, 0.0]))\n",
    "us_init = np.random.uniform(-1, 1, (N, dynamics.action_size))\n",
    "ilqr = iLQR(dynamics, cost, N)"
   ]
  },
  {
   "cell_type": "code",
   "execution_count": 9,
   "metadata": {},
   "outputs": [
    {
     "name": "stdout",
     "output_type": "stream",
     "text": [
      "iteration 0 accepted 1606.00395439 [ 3.03612745  0.63308443]\n",
      "iteration 1 accepted 1553.46290238 [ 2.74884859  0.51144514]\n",
      "iteration 2 accepted 1506.92595014 [ 2.58617199  0.79853069]\n",
      "iteration 3 accepted 1469.79140703 [ 2.27261708  0.48998471]\n",
      "iteration 4 accepted 1436.36931219 [ 2.19693282  0.45303263]\n",
      "iteration 5 accepted 1380.56227099 [ 1.95014759  0.25104105]\n",
      "iteration 6 accepted 1347.02988292 [ 1.76870036  0.11362546]\n",
      "iteration 7 accepted 1275.5712649 [ 1.46731752  0.06642671]\n",
      "iteration 8 accepted 1244.3822344 [ 1.28328384  0.02690823]\n",
      "iteration 9 accepted 1211.49816231 [  1.14305249e+00  -7.26350047e-04]\n",
      "iteration 10 accepted 1201.52597466 [ 1.04990104 -0.00859394]\n",
      "iteration 11 accepted 1074.17395252 [ 0.78119359 -0.18371054]\n",
      "iteration 12 accepted 1049.8600003 [ 0.64122606 -0.26237339]\n",
      "iteration 13 accepted 1037.23141891 [ 0.52068761 -0.41347838]\n",
      "iteration 14 accepted 1018.20141402 [ 0.50144941 -0.32171157]\n",
      "iteration 15 accepted 995.405507241 [ 0.47133001 -0.24623969]\n",
      "iteration 16 accepted 991.260313251 [ 0.44531888 -0.22214888]\n",
      "iteration 17 accepted 974.702220414 [ 0.41588304 -0.21326667]\n",
      "iteration 18 accepted 973.139669494 [ 0.3932338 -0.2103208]\n",
      "iteration 19 accepted 958.057764084 [ 0.37128887 -0.20702331]\n",
      "iteration 20 accepted 944.054325789 [ 0.35866729 -0.18469556]\n",
      "iteration 21 accepted 941.581734968 [ 0.34953961 -0.14151113]\n",
      "iteration 22 accepted 932.82200504 [ 0.32677598 -0.15082853]\n",
      "iteration 23 accepted 925.460317254 [ 0.32056339 -0.1243333 ]\n",
      "iteration 24 accepted 919.979186634 [ 0.30994924 -0.1155064 ]\n",
      "iteration 25 accepted 919.400996582 [ 0.30072939 -0.09526612]\n",
      "iteration 26 accepted 912.98258408 [ 0.29063602 -0.09588309]\n",
      "iteration 27 accepted 904.699503359 [ 0.28253939 -0.08803454]\n",
      "iteration 28 accepted 899.64675939 [ 0.27612948 -0.08512068]\n",
      "iteration 29 accepted 898.361702554 [ 0.2666943  -0.07905385]\n",
      "iteration 30 accepted 892.249525311 [ 0.26110052 -0.07782308]\n",
      "iteration 31 accepted 890.657391105 [ 0.25137144 -0.07453451]\n",
      "iteration 32 accepted 880.977813431 [ 0.2464496  -0.07335121]\n",
      "iteration 33 accepted 878.639039679 [ 0.23743932 -0.07076954]\n",
      "iteration 34 accepted 868.210263357 [ 0.23328251 -0.0697001 ]\n",
      "iteration 35 accepted 858.729828712 [ 0.22693217 -0.06799275]\n",
      "iteration 36 accepted 852.803354846 [ 0.22322499 -0.06700381]\n",
      "iteration 37 accepted 852.57921089 [ 0.21602836 -0.06520599]\n",
      "iteration 38 accepted 846.160764567 [ 0.2127022  -0.06432898]\n",
      "iteration 39 accepted 844.667953467 [ 0.20543399 -0.06252096]\n",
      "iteration 40 accepted 832.675161189 [ 0.20220302 -0.06165646]\n",
      "iteration 41 accepted 822.220387588 [ 0.1970285  -0.06031671]\n",
      "iteration 42 accepted 818.100397575 [ 0.193991   -0.05950041]\n",
      "iteration 43 accepted 814.783493264 [ 0.18908731 -0.05821037]\n",
      "iteration 44 accepted 813.200075804 [ 0.18606343 -0.05738755]\n",
      "iteration 45 accepted 809.820099591 [ 0.18119831 -0.05609276]\n",
      "iteration 46 accepted 808.609995084 [ 0.17824331 -0.05527994]\n",
      "iteration 47 accepted 805.276998079 [ 0.17348727 -0.05399954]\n",
      "iteration 48 accepted 804.148518097 [ 0.17062512 -0.053204  ]\n",
      "iteration 49 accepted 800.998181924 [ 0.16602873 -0.05195297]\n",
      "iteration 50 accepted 799.876611039 [ 0.16328656 -0.05118356]\n",
      "iteration 51 accepted 797.021553306 [ 0.15889172 -0.04997554]\n",
      "iteration 52 accepted 795.893592613 [ 0.1562863  -0.04923859]\n",
      "iteration 53 accepted 793.32452034 [ 0.15211814 -0.04808315]\n",
      "iteration 54 accepted 792.147729697 [ 0.14965864 -0.04738278]\n",
      "iteration 55 accepted 789.867916586 [ 0.14572929 -0.04628572]\n",
      "iteration 56 accepted 788.614584032 [ 0.1434179  -0.04562386]\n",
      "iteration 57 accepted 786.627291268 [ 0.13972853 -0.04458754]\n",
      "iteration 58 accepted 785.270006297 [ 0.13756233 -0.04396438]\n",
      "iteration 59 accepted 783.576048527 [ 0.13410664 -0.04298865]\n",
      "iteration 60 accepted 782.092367758 [ 0.13207944 -0.0424032 ]\n",
      "iteration 61 accepted 780.690759976 [ 0.12884646 -0.04148623]\n",
      "iteration 62 accepted 779.06372763 [ 0.1269502  -0.04093675]\n",
      "iteration 63 accepted 777.950861101 [ 0.12392632 -0.04007566]\n",
      "iteration 64 accepted 776.167747196 [ 0.12215207 -0.03956001]\n",
      "iteration 65 accepted 775.342332119 [ 0.11932257 -0.03875138]\n",
      "iteration 66 accepted 773.388920841 [ 0.11766125 -0.03826727]\n",
      "iteration 67 accepted 772.866601855 [ 0.11501168 -0.03750754]\n",
      "iteration 68 accepted 770.725809591 [ 0.11345453 -0.03705272]\n",
      "iteration 69 accepted 770.55979724 [ 0.11097137 -0.03633844]\n",
      "iteration 70 accepted 768.231126663 [ 0.10950997 -0.03591066]\n",
      "iteration 71 accepted 765.054896905 [ 0.10807277 -0.03549335]\n",
      "iteration 72 accepted 763.967012985 [ 0.10667724 -0.03508792]\n",
      "iteration 73 accepted 763.712195861 [ 0.10447884 -0.0344559 ]\n",
      "iteration 74 accepted 762.307331671 [ 0.10319394 -0.03407846]\n",
      "iteration 75 accepted 761.43222871 [ 0.10192757 -0.03370794]\n",
      "iteration 76 accepted 760.507941664 [ 0.10068882 -0.03334543]\n",
      "iteration 77 accepted 760.28457797 [ 0.09872652 -0.03277737]\n",
      "iteration 78 accepted 759.010028909 [ 0.09757124 -0.0324366 ]\n",
      "iteration 79 accepted 758.084484018 [ 0.09643037 -0.03210164]\n",
      "iteration 80 accepted 757.159161435 [ 0.09531243 -0.03177335]\n",
      "iteration 81 accepted 757.142304801 [ 0.09353781 -0.03125758]\n",
      "iteration 82 accepted 755.843753366 [ 0.0924884  -0.03094727]\n",
      "iteration 83 accepted 754.693599612 [ 0.09145041 -0.03064176]\n",
      "iteration 84 accepted 753.699131325 [ 0.09043141 -0.03034183]\n",
      "iteration 85 accepted 752.902047782 [ 0.08942996 -0.03004763]\n",
      "iteration 86 accepted 751.982153681 [ 0.08844824 -0.0297589 ]\n",
      "iteration 87 accepted 751.89026763 [ 0.08688807 -0.02930401]\n",
      "iteration 88 accepted 750.676002959 [ 0.08596151 -0.02902908]\n",
      "iteration 89 accepted 749.234385484 [ 0.08504191 -0.02875768]\n",
      "iteration 90 accepted 748.118049352 [ 0.08413749 -0.02849064]\n",
      "iteration 91 accepted 747.145063828 [ 0.08324602 -0.02822798]\n",
      "iteration 92 accepted 746.065810586 [ 0.08236978 -0.02796965]\n",
      "iteration 93 accepted 745.000311758 [ 0.08150709 -0.02771547]\n",
      "iteration 94 accepted 743.834889818 [ 0.0806581  -0.02746522]\n",
      "iteration 95 accepted 743.75404584 [ 0.07930663 -0.02706969]\n",
      "iteration 96 accepted 742.290784085 [ 0.07849889 -0.02682938]\n",
      "iteration 97 accepted 739.584883429 [ 0.07769305 -0.02659167]\n",
      "iteration 98 accepted 737.840962581 [ 0.07690031 -0.02635775]\n",
      "iteration 99 accepted 736.33491023 [ 0.07611789 -0.02612744]\n",
      "iteration 100 accepted 736.095986396 [ 0.07487407 -0.02576322]\n",
      "iteration 101 accepted 734.444372472 [ 0.07412856 -0.0255414 ]\n",
      "iteration 102 accepted 729.231016342 [ 0.07337699 -0.0253221 ]\n",
      "iteration 103 accepted 728.774168985 [ 0.07219749 -0.02497826]\n",
      "iteration 104 accepted 727.159959525 [ 0.07149283 -0.02477044]\n",
      "iteration 105 accepted 720.948248219 [ 0.0707853  -0.02456667]\n",
      "iteration 106 accepted 718.942430542 [ 0.07010751 -0.02436998]\n",
      "iteration 107 accepted 718.790799745 [ 0.06904076 -0.0240618 ]\n",
      "iteration 108 accepted 716.827417052 [ 0.06841768 -0.02387767]\n",
      "iteration 109 accepted 714.589356274 [ 0.06780045 -0.02369617]\n",
      "iteration 110 accepted 713.3945181 [ 0.06719899 -0.02351862]\n",
      "iteration 111 accepted 712.459475773 [ 0.06660904 -0.02334445]\n",
      "iteration 112 accepted 711.641856615 [ 0.06603368 -0.0231739 ]\n",
      "iteration 113 accepted 710.973132813 [ 0.06546949 -0.02300652]\n",
      "iteration 114 accepted 710.352297479 [ 0.06491829 -0.02284241]\n",
      "iteration 115 accepted 709.912366711 [ 0.06437771 -0.02268126]\n",
      "iteration 116 accepted 709.426083517 [ 0.06384894 -0.02252307]\n",
      "iteration 117 accepted 709.08703786 [ 0.06332905 -0.02236758]\n",
      "iteration 118 accepted 708.758002784 [ 0.06282054 -0.02221498]\n",
      "iteration 119 accepted 708.548250758 [ 0.06232098 -0.02206495]\n",
      "iteration 120 accepted 708.255248331 [ 0.06183125 -0.02191751]\n",
      "iteration 121 accepted 708.10762073 [ 0.06134912 -0.02177248]\n",
      "iteration 122 accepted 707.889773528 [ 0.06087663 -0.02163005]\n",
      "iteration 123 accepted 707.843136003 [ 0.0604123  -0.02149003]\n",
      "iteration 124 accepted 707.656606956 [ 0.05995723 -0.02135242]\n",
      "iteration 125 accepted 707.653443528 [ 0.05950927 -0.02121697]\n",
      "iteration 126 accepted 707.466585236 [ 0.05906936 -0.02108375]\n",
      "iteration 127 accepted 706.723148696 [ 0.05884641 -0.02101636]\n",
      "iteration 128 accepted 706.640797345 [ 0.0584168  -0.02088654]\n",
      "iteration 129 accepted 706.584460256 [ 0.05799452 -0.02075894]\n",
      "iteration 130 accepted 706.5381129 [ 0.05758065 -0.02063358]\n",
      "iteration 131 accepted 706.516542243 [ 0.05717356 -0.02051026]\n"
     ]
    },
    {
     "name": "stdout",
     "output_type": "stream",
     "text": [
      "iteration 132 accepted 706.489726739 [ 0.05677429 -0.020389  ]\n",
      "iteration 133 accepted 706.397073152 [ 0.05657303 -0.02032766]\n",
      "iteration 134 accepted 706.368864504 [ 0.05564459 -0.02004938]\n",
      "iteration 135 accepted 706.36253766 [ 0.05527777 -0.01993623]\n",
      "iteration 136 accepted 706.348669383 [ 0.05491307 -0.01982419]\n",
      "iteration 137 accepted 706.284116871 [ 0.05472801 -0.01976736]\n",
      "iteration 138 accepted 706.263006742 [ 0.05387266 -0.01950927]\n",
      "iteration 139 accepted 706.256959343 [ 0.0535319  -0.01940412]\n",
      "iteration 140 accepted 706.244313779 [ 0.05319334 -0.01930008]\n",
      "iteration 141 accepted 706.190957329 [ 0.05302167 -0.01924733]\n",
      "iteration 142 accepted 706.179743746 [ 0.05222854 -0.0190077 ]\n",
      "iteration 143 accepted 706.148386527 [ 0.05206679 -0.01895753]\n",
      "iteration 144 accepted 706.137266864 [ 0.05131635 -0.01872904]\n",
      "iteration 145 accepted 706.136437423 [ 0.05101301 -0.01863519]\n",
      "iteration 146 accepted 706.133143407 [ 0.05071202 -0.01854244]\n",
      "iteration 147 accepted 706.106123269 [ 0.05055956 -0.01849544]\n",
      "iteration 148 accepted 706.105194403 [ 0.04985528 -0.01828176]\n",
      "iteration 149 accepted 706.088838036 [ 0.0497113  -0.01823698]\n",
      "iteration 150 accepted 706.083499009 [ 0.04904349 -0.01803291]\n",
      "iteration 151 accepted 706.082256949 [ 0.04877295 -0.01794899]\n",
      "iteration 152 accepted 706.079900162 [ 0.04850439 -0.01786603]\n",
      "iteration 153 accepted 706.064983368 [ 0.04836834 -0.01782396]\n",
      "iteration 154 accepted 706.060919628 [ 0.04773981 -0.01763259]\n",
      "iteration 155 accepted 706.06012688 [ 0.04748791 -0.01755436]\n",
      "iteration 156 accepted 706.058054893 [ 0.04723752 -0.01747689]\n",
      "iteration 157 accepted 706.043825044 [ 0.04711054 -0.01743757]\n",
      "iteration 158 accepted 706.040860528 [ 0.04652389 -0.01725857]\n",
      "iteration 159 converged 706.040641798 [ 0.04628819 -0.01718527]\n"
     ]
    }
   ],
   "source": [
    "J_hist = []\n",
    "xs, us = ilqr.fit(x0, us_init, n_iterations=200, on_iteration=on_iteration)"
   ]
  },
  {
   "cell_type": "code",
   "execution_count": 10,
   "metadata": {},
   "outputs": [],
   "source": [
    "# Reduce the state to something more reasonable.\n",
    "xs = dynamics.reduce_state(xs)\n",
    "\n",
    "# Constrain the actions to see what's actually applied to the system.\n",
    "us = constrain(us, dynamics.min_bounds, dynamics.max_bounds)"
   ]
  },
  {
   "cell_type": "code",
   "execution_count": 11,
   "metadata": {},
   "outputs": [],
   "source": [
    "t = np.arange(N) * dt\n",
    "theta = np.unwrap(xs[:, 0])  # Makes for smoother plots.\n",
    "theta_dot = xs[:, 1]"
   ]
  },
  {
   "cell_type": "code",
   "execution_count": 12,
   "metadata": {},
   "outputs": [
    {
     "data": {
      "image/png": "[encoded data removed]",
      "text/plain": [
       "<Figure size 432x288 with 1 Axes>"
      ]
     },
     "metadata": {
      "needs_background": "light"
     },
     "output_type": "display_data"
    }
   ],
   "source": [
    "_ = plt.plot(theta, theta_dot)\n",
    "_ = plt.xlabel(\"theta (rad)\")\n",
    "_ = plt.ylabel(\"theta_dot (rad/s)\")\n",
    "_ = plt.title(\"Phase Plot\")"
   ]
  },
  {
   "cell_type": "code",
   "execution_count": 13,
   "metadata": {},
   "outputs": [
    {
     "data": {
      "image/png": "[encoded data removed]",
      "text/plain": [
       "<Figure size 432x288 with 1 Axes>"
      ]
     },
     "metadata": {
      "needs_background": "light"
     },
     "output_type": "display_data"
    }
   ],
   "source": [
    "_ = plt.plot(t, us)\n",
    "_ = plt.xlabel(\"time (s)\")\n",
    "_ = plt.ylabel(\"Force (N)\")\n",
    "_ = plt.title(\"Action path\")"
   ]
  },
  {
   "cell_type": "code",
   "execution_count": 14,
   "metadata": {
    "scrolled": true
   },
   "outputs": [
    {
     "data": {
      "image/png": "[encoded data removed]",
      "text/plain": [
       "<Figure size 432x288 with 1 Axes>"
      ]
     },
     "metadata": {
      "needs_background": "light"
     },
     "output_type": "display_data"
    }
   ],
   "source": [
    "_ = plt.plot(J_hist)\n",
    "_ = plt.xlabel(\"Iteration\")\n",
    "_ = plt.ylabel(\"Total cost\")\n",
    "_ = plt.title(\"Total cost-to-go\")"
   ]
  },
  {
   "cell_type": "code",
   "execution_count": null,
   "metadata": {},
   "outputs": [],
   "source": []
  },
  {
   "cell_type": "code",
   "execution_count": null,
   "metadata": {},
   "outputs": [],
   "source": []
  }
 ],
 "metadata": {
  "kernelspec": {
   "display_name": "Python 3",
   "language": "python",
   "name": "python3"
  },
  "language_info": {
   "codemirror_mode": {
    "name": "ipython",
    "version": 3
   },
   "file_extension": ".py",
   "mimetype": "text/x-python",
   "name": "python",
   "nbconvert_exporter": "python",
   "pygments_lexer": "ipython3",
   "version": "3.5.2"
  }
 },
 "nbformat": 4,
 "nbformat_minor": 2
}
